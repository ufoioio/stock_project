{
 "cells": [
  {
   "cell_type": "code",
   "execution_count": 4,
   "metadata": {},
   "outputs": [],
   "source": [
    "import sys\n",
    "from PyQt5.QtWidgets import QApplication\n",
    "from kiwoom_api.api import Kiwoom, DataFeeder, Executor"
   ]
  },
  {
   "cell_type": "code",
   "execution_count": 5,
   "metadata": {},
   "outputs": [
    {
     "name": "stderr",
     "output_type": "stream",
     "text": [
      "2020-06-10 16:30:39.255852 Connection Successful\n"
     ]
    }
   ],
   "source": [
    "app = QApplication(sys.argv)\n",
    "\n",
    "kiwoom = Kiwoom() # Kiwoom 인스턴스 생성\n",
    "kiwoom.commConnect() # API 접속\n",
    "feeder = DataFeeder(kiwoom)\n",
    "\n",
    "#실행후 기다리면 로그인창이 생성됨\n",
    "#이 주소로 접속한 뒤 OPEN API를 신청 및 설치하고 실행한다.\n",
    "#Anaconda 실행환경은 32bit이다.\n",
    "#https://www.kiwoom.com/nkw.templateFrameSet.do?m=m1408000000"
   ]
  },
  {
   "cell_type": "code",
   "execution_count": 6,
   "metadata": {},
   "outputs": [],
   "source": [
    "import pandas as pd"
   ]
  },
  {
   "cell_type": "code",
   "execution_count": 23,
   "metadata": {},
   "outputs": [
    {
     "name": "stderr",
     "output_type": "stream",
     "text": [
      "2020-06-10 16:32:15.886429  commRqData 주식일봉차트조회요청\n",
      "{'BASC_DT': '2020-06-10',\n",
      " 'EVENT': 'eventReceiveTrData',\n",
      " 'REQUEST_NAME': '주식일봉차트조회요청',\n",
      " 'TIME': '2020-06-10 16:32:19.254424',\n",
      " 'TR_CODE': 'OPT10081'}\n"
     ]
    }
   ],
   "source": [
    "#일봉 데이터 요청\n",
    "\n",
    "code = \"005930\" # 삼성전자\n",
    "\n",
    "# TR요청(request)에 필요한 parameter는 KOAStudio를 참고하시길 바랍니다.\n",
    "# OPT10004: 주식호가요청\n",
    "params = {\"종목코드\": code, \"기준일자\": \"20200602\", \"수정주가구분\" : \"1\"} #기준일자 -> 불러오는 데이터의 가장 나중날짜\n",
    "data = feeder.request(trCode=\"OPT10081\", **params)"
   ]
  },
  {
   "cell_type": "code",
   "execution_count": 24,
   "metadata": {},
   "outputs": [],
   "source": [
    "mul_data = data['멀티데이터']"
   ]
  },
  {
   "cell_type": "code",
   "execution_count": 25,
   "metadata": {},
   "outputs": [],
   "source": [
    "df_data = pd.DataFrame(mul_data)"
   ]
  },
  {
   "cell_type": "code",
   "execution_count": 26,
   "metadata": {},
   "outputs": [],
   "source": [
    "cols = [ '일자','현재가', '시가', '고가', '저가', '거래량', '거래대금']"
   ]
  },
  {
   "cell_type": "code",
   "execution_count": 27,
   "metadata": {},
   "outputs": [],
   "source": [
    "df_data = df_data[cols]"
   ]
  },
  {
   "cell_type": "code",
   "execution_count": 28,
   "metadata": {},
   "outputs": [],
   "source": [
    "df_data['일자'] = pd.to_datetime(df_data['일자'])"
   ]
  },
  {
   "cell_type": "code",
   "execution_count": 29,
   "metadata": {},
   "outputs": [],
   "source": [
    "df_data.iloc[:, 1:] = df_data.iloc[:, 1:].astype(int)"
   ]
  },
  {
   "cell_type": "code",
   "execution_count": 30,
   "metadata": {},
   "outputs": [],
   "source": [
    "df_data = df_data.drop(df_data[df_data['거래량'] == 0].index)"
   ]
  },
  {
   "cell_type": "code",
   "execution_count": 31,
   "metadata": {},
   "outputs": [],
   "source": [
    "df_data = df_data.sort_values(by='일자').reset_index().drop(['index'], axis=1)"
   ]
  },
  {
   "cell_type": "code",
   "execution_count": 32,
   "metadata": {},
   "outputs": [
    {
     "data": {
      "text/html": [
       "<div>\n",
       "<style scoped>\n",
       "    .dataframe tbody tr th:only-of-type {\n",
       "        vertical-align: middle;\n",
       "    }\n",
       "\n",
       "    .dataframe tbody tr th {\n",
       "        vertical-align: top;\n",
       "    }\n",
       "\n",
       "    .dataframe thead th {\n",
       "        text-align: right;\n",
       "    }\n",
       "</style>\n",
       "<table border=\"1\" class=\"dataframe\">\n",
       "  <thead>\n",
       "    <tr style=\"text-align: right;\">\n",
       "      <th></th>\n",
       "      <th>일자</th>\n",
       "      <th>현재가</th>\n",
       "      <th>시가</th>\n",
       "      <th>고가</th>\n",
       "      <th>저가</th>\n",
       "      <th>거래량</th>\n",
       "      <th>거래대금</th>\n",
       "    </tr>\n",
       "  </thead>\n",
       "  <tbody>\n",
       "    <tr>\n",
       "      <td>0</td>\n",
       "      <td>2017-12-19</td>\n",
       "      <td>51560</td>\n",
       "      <td>51540</td>\n",
       "      <td>52080</td>\n",
       "      <td>51520</td>\n",
       "      <td>11978600</td>\n",
       "      <td>619174</td>\n",
       "    </tr>\n",
       "    <tr>\n",
       "      <td>1</td>\n",
       "      <td>2017-12-20</td>\n",
       "      <td>50880</td>\n",
       "      <td>51500</td>\n",
       "      <td>51760</td>\n",
       "      <td>50820</td>\n",
       "      <td>10080550</td>\n",
       "      <td>515676</td>\n",
       "    </tr>\n",
       "    <tr>\n",
       "      <td>2</td>\n",
       "      <td>2017-12-21</td>\n",
       "      <td>49140</td>\n",
       "      <td>51000</td>\n",
       "      <td>51060</td>\n",
       "      <td>49100</td>\n",
       "      <td>15624300</td>\n",
       "      <td>777079</td>\n",
       "    </tr>\n",
       "    <tr>\n",
       "      <td>3</td>\n",
       "      <td>2017-12-22</td>\n",
       "      <td>49700</td>\n",
       "      <td>49400</td>\n",
       "      <td>49960</td>\n",
       "      <td>49240</td>\n",
       "      <td>11199650</td>\n",
       "      <td>555690</td>\n",
       "    </tr>\n",
       "    <tr>\n",
       "      <td>4</td>\n",
       "      <td>2017-12-26</td>\n",
       "      <td>48200</td>\n",
       "      <td>49760</td>\n",
       "      <td>50100</td>\n",
       "      <td>48200</td>\n",
       "      <td>16039850</td>\n",
       "      <td>787685</td>\n",
       "    </tr>\n",
       "    <tr>\n",
       "      <td>...</td>\n",
       "      <td>...</td>\n",
       "      <td>...</td>\n",
       "      <td>...</td>\n",
       "      <td>...</td>\n",
       "      <td>...</td>\n",
       "      <td>...</td>\n",
       "      <td>...</td>\n",
       "    </tr>\n",
       "    <tr>\n",
       "      <td>592</td>\n",
       "      <td>2020-05-27</td>\n",
       "      <td>49900</td>\n",
       "      <td>48950</td>\n",
       "      <td>50000</td>\n",
       "      <td>48800</td>\n",
       "      <td>19548479</td>\n",
       "      <td>969952</td>\n",
       "    </tr>\n",
       "    <tr>\n",
       "      <td>593</td>\n",
       "      <td>2020-05-28</td>\n",
       "      <td>50400</td>\n",
       "      <td>51100</td>\n",
       "      <td>51200</td>\n",
       "      <td>49900</td>\n",
       "      <td>31309318</td>\n",
       "      <td>1585346</td>\n",
       "    </tr>\n",
       "    <tr>\n",
       "      <td>594</td>\n",
       "      <td>2020-05-29</td>\n",
       "      <td>50700</td>\n",
       "      <td>50000</td>\n",
       "      <td>50700</td>\n",
       "      <td>49700</td>\n",
       "      <td>27596961</td>\n",
       "      <td>1390446</td>\n",
       "    </tr>\n",
       "    <tr>\n",
       "      <td>595</td>\n",
       "      <td>2020-06-01</td>\n",
       "      <td>51200</td>\n",
       "      <td>50800</td>\n",
       "      <td>51200</td>\n",
       "      <td>50600</td>\n",
       "      <td>16949183</td>\n",
       "      <td>864647</td>\n",
       "    </tr>\n",
       "    <tr>\n",
       "      <td>596</td>\n",
       "      <td>2020-06-02</td>\n",
       "      <td>51400</td>\n",
       "      <td>51000</td>\n",
       "      <td>51500</td>\n",
       "      <td>50800</td>\n",
       "      <td>14247933</td>\n",
       "      <td>730124</td>\n",
       "    </tr>\n",
       "  </tbody>\n",
       "</table>\n",
       "<p>597 rows × 7 columns</p>\n",
       "</div>"
      ],
      "text/plain": [
       "            일자    현재가     시가     고가     저가       거래량     거래대금\n",
       "0   2017-12-19  51560  51540  52080  51520  11978600   619174\n",
       "1   2017-12-20  50880  51500  51760  50820  10080550   515676\n",
       "2   2017-12-21  49140  51000  51060  49100  15624300   777079\n",
       "3   2017-12-22  49700  49400  49960  49240  11199650   555690\n",
       "4   2017-12-26  48200  49760  50100  48200  16039850   787685\n",
       "..         ...    ...    ...    ...    ...       ...      ...\n",
       "592 2020-05-27  49900  48950  50000  48800  19548479   969952\n",
       "593 2020-05-28  50400  51100  51200  49900  31309318  1585346\n",
       "594 2020-05-29  50700  50000  50700  49700  27596961  1390446\n",
       "595 2020-06-01  51200  50800  51200  50600  16949183   864647\n",
       "596 2020-06-02  51400  51000  51500  50800  14247933   730124\n",
       "\n",
       "[597 rows x 7 columns]"
      ]
     },
     "execution_count": 32,
     "metadata": {},
     "output_type": "execute_result"
    }
   ],
   "source": [
    "df_data"
   ]
  },
  {
   "cell_type": "code",
   "execution_count": 33,
   "metadata": {},
   "outputs": [],
   "source": [
    "percent = df_data.iloc[:, 1:].diff() / df_data.iloc[:, 1:]"
   ]
  },
  {
   "cell_type": "code",
   "execution_count": 36,
   "metadata": {},
   "outputs": [],
   "source": [
    "percent = pd.concat([df_data['일자'], percent], axis=1)"
   ]
  },
  {
   "cell_type": "code",
   "execution_count": 37,
   "metadata": {},
   "outputs": [
    {
     "data": {
      "text/html": [
       "<div>\n",
       "<style scoped>\n",
       "    .dataframe tbody tr th:only-of-type {\n",
       "        vertical-align: middle;\n",
       "    }\n",
       "\n",
       "    .dataframe tbody tr th {\n",
       "        vertical-align: top;\n",
       "    }\n",
       "\n",
       "    .dataframe thead th {\n",
       "        text-align: right;\n",
       "    }\n",
       "</style>\n",
       "<table border=\"1\" class=\"dataframe\">\n",
       "  <thead>\n",
       "    <tr style=\"text-align: right;\">\n",
       "      <th></th>\n",
       "      <th>일자</th>\n",
       "      <th>현재가</th>\n",
       "      <th>시가</th>\n",
       "      <th>고가</th>\n",
       "      <th>저가</th>\n",
       "      <th>거래량</th>\n",
       "      <th>거래대금</th>\n",
       "    </tr>\n",
       "  </thead>\n",
       "  <tbody>\n",
       "    <tr>\n",
       "      <td>0</td>\n",
       "      <td>2017-12-19</td>\n",
       "      <td>NaN</td>\n",
       "      <td>NaN</td>\n",
       "      <td>NaN</td>\n",
       "      <td>NaN</td>\n",
       "      <td>NaN</td>\n",
       "      <td>NaN</td>\n",
       "    </tr>\n",
       "    <tr>\n",
       "      <td>1</td>\n",
       "      <td>2017-12-20</td>\n",
       "      <td>-0.013365</td>\n",
       "      <td>-0.000777</td>\n",
       "      <td>-0.006182</td>\n",
       "      <td>-0.013774</td>\n",
       "      <td>-0.188288</td>\n",
       "      <td>-0.200704</td>\n",
       "    </tr>\n",
       "    <tr>\n",
       "      <td>2</td>\n",
       "      <td>2017-12-21</td>\n",
       "      <td>-0.035409</td>\n",
       "      <td>-0.009804</td>\n",
       "      <td>-0.013709</td>\n",
       "      <td>-0.035031</td>\n",
       "      <td>0.354816</td>\n",
       "      <td>0.336392</td>\n",
       "    </tr>\n",
       "    <tr>\n",
       "      <td>3</td>\n",
       "      <td>2017-12-22</td>\n",
       "      <td>0.011268</td>\n",
       "      <td>-0.032389</td>\n",
       "      <td>-0.022018</td>\n",
       "      <td>0.002843</td>\n",
       "      <td>-0.395070</td>\n",
       "      <td>-0.398404</td>\n",
       "    </tr>\n",
       "    <tr>\n",
       "      <td>4</td>\n",
       "      <td>2017-12-26</td>\n",
       "      <td>-0.031120</td>\n",
       "      <td>0.007235</td>\n",
       "      <td>0.002794</td>\n",
       "      <td>-0.021577</td>\n",
       "      <td>0.301761</td>\n",
       "      <td>0.294528</td>\n",
       "    </tr>\n",
       "    <tr>\n",
       "      <td>...</td>\n",
       "      <td>...</td>\n",
       "      <td>...</td>\n",
       "      <td>...</td>\n",
       "      <td>...</td>\n",
       "      <td>...</td>\n",
       "      <td>...</td>\n",
       "      <td>...</td>\n",
       "    </tr>\n",
       "    <tr>\n",
       "      <td>592</td>\n",
       "      <td>2020-05-27</td>\n",
       "      <td>0.013026</td>\n",
       "      <td>0.005107</td>\n",
       "      <td>0.011000</td>\n",
       "      <td>0.004098</td>\n",
       "      <td>0.226155</td>\n",
       "      <td>0.234144</td>\n",
       "    </tr>\n",
       "    <tr>\n",
       "      <td>593</td>\n",
       "      <td>2020-05-28</td>\n",
       "      <td>0.009921</td>\n",
       "      <td>0.042074</td>\n",
       "      <td>0.023438</td>\n",
       "      <td>0.022044</td>\n",
       "      <td>0.375634</td>\n",
       "      <td>0.388176</td>\n",
       "    </tr>\n",
       "    <tr>\n",
       "      <td>594</td>\n",
       "      <td>2020-05-29</td>\n",
       "      <td>0.005917</td>\n",
       "      <td>-0.022000</td>\n",
       "      <td>-0.009862</td>\n",
       "      <td>-0.004024</td>\n",
       "      <td>-0.134521</td>\n",
       "      <td>-0.140171</td>\n",
       "    </tr>\n",
       "    <tr>\n",
       "      <td>595</td>\n",
       "      <td>2020-06-01</td>\n",
       "      <td>0.009766</td>\n",
       "      <td>0.015748</td>\n",
       "      <td>0.009766</td>\n",
       "      <td>0.017787</td>\n",
       "      <td>-0.628218</td>\n",
       "      <td>-0.608108</td>\n",
       "    </tr>\n",
       "    <tr>\n",
       "      <td>596</td>\n",
       "      <td>2020-06-02</td>\n",
       "      <td>0.003891</td>\n",
       "      <td>0.003922</td>\n",
       "      <td>0.005825</td>\n",
       "      <td>0.003937</td>\n",
       "      <td>-0.189589</td>\n",
       "      <td>-0.184247</td>\n",
       "    </tr>\n",
       "  </tbody>\n",
       "</table>\n",
       "<p>597 rows × 7 columns</p>\n",
       "</div>"
      ],
      "text/plain": [
       "            일자       현재가        시가        고가        저가       거래량      거래대금\n",
       "0   2017-12-19       NaN       NaN       NaN       NaN       NaN       NaN\n",
       "1   2017-12-20 -0.013365 -0.000777 -0.006182 -0.013774 -0.188288 -0.200704\n",
       "2   2017-12-21 -0.035409 -0.009804 -0.013709 -0.035031  0.354816  0.336392\n",
       "3   2017-12-22  0.011268 -0.032389 -0.022018  0.002843 -0.395070 -0.398404\n",
       "4   2017-12-26 -0.031120  0.007235  0.002794 -0.021577  0.301761  0.294528\n",
       "..         ...       ...       ...       ...       ...       ...       ...\n",
       "592 2020-05-27  0.013026  0.005107  0.011000  0.004098  0.226155  0.234144\n",
       "593 2020-05-28  0.009921  0.042074  0.023438  0.022044  0.375634  0.388176\n",
       "594 2020-05-29  0.005917 -0.022000 -0.009862 -0.004024 -0.134521 -0.140171\n",
       "595 2020-06-01  0.009766  0.015748  0.009766  0.017787 -0.628218 -0.608108\n",
       "596 2020-06-02  0.003891  0.003922  0.005825  0.003937 -0.189589 -0.184247\n",
       "\n",
       "[597 rows x 7 columns]"
      ]
     },
     "execution_count": 37,
     "metadata": {},
     "output_type": "execute_result"
    }
   ],
   "source": [
    "percent"
   ]
  },
  {
   "cell_type": "code",
   "execution_count": null,
   "metadata": {},
   "outputs": [],
   "source": []
  }
 ],
 "metadata": {
  "kernelspec": {
   "display_name": "Python 3",
   "language": "python",
   "name": "python3"
  },
  "language_info": {
   "codemirror_mode": {
    "name": "ipython",
    "version": 3
   },
   "file_extension": ".py",
   "mimetype": "text/x-python",
   "name": "python",
   "nbconvert_exporter": "python",
   "pygments_lexer": "ipython3",
   "version": "3.7.3"
  }
 },
 "nbformat": 4,
 "nbformat_minor": 4
}
