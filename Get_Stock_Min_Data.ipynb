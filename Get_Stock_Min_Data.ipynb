{
 "cells": [
  {
   "cell_type": "markdown",
   "metadata": {},
   "source": [
    "# 키움 로그인"
   ]
  },
  {
   "cell_type": "code",
   "execution_count": 1,
   "metadata": {},
   "outputs": [],
   "source": [
    "import sys\n",
    "from PyQt5.QtWidgets import QApplication\n",
    "from kiwoom_api.api import Kiwoom, DataFeeder, Executor"
   ]
  },
  {
   "cell_type": "code",
   "execution_count": 2,
   "metadata": {},
   "outputs": [
    {
     "name": "stderr",
     "output_type": "stream",
     "text": [
      "2020-06-12 14:01:40.421911 Connection Successful\n"
     ]
    }
   ],
   "source": [
    "app = QApplication(sys.argv)\n",
    "\n",
    "kiwoom = Kiwoom() # Kiwoom 인스턴스 생성\n",
    "kiwoom.commConnect() # API 접속\n",
    "feeder = DataFeeder(kiwoom)"
   ]
  },
  {
   "cell_type": "markdown",
   "metadata": {},
   "source": [
    "# 키움 분봉 주식데이터 가져오기"
   ]
  },
  {
   "cell_type": "code",
   "execution_count": 5,
   "metadata": {},
   "outputs": [],
   "source": [
    "import pandas as pd\n",
    "import time"
   ]
  },
  {
   "cell_type": "code",
   "execution_count": 6,
   "metadata": {},
   "outputs": [],
   "source": [
    "Kospi_codes = pd.read_csv('./KOSPI200.csv', header=None) #코스피200 목록 가져오기\n",
    "Kospi_codes.columns = ['codes', 'name']"
   ]
  },
  {
   "cell_type": "code",
   "execution_count": 7,
   "metadata": {},
   "outputs": [],
   "source": [
    "def min_request(trCode, n, **kwargs):   \n",
    "    for k, v in kwargs.items():\n",
    "        kiwoom.setInputValue(k, v)\n",
    "\n",
    "    kiwoom.commRqData('주식분봉차트조회요청', trCode, n, \"0000\")\n",
    "    return getattr(kiwoom, trCode)"
   ]
  },
  {
   "cell_type": "code",
   "execution_count": 8,
   "metadata": {},
   "outputs": [],
   "source": [
    "def get_min_data(code, n): #n : 몇번 가져올 것인가? 1회 900개\n",
    "    params = {\"종목코드\": code, \"틱범위\":1, \"수정주가구분\" : \"1\"}\n",
    "    \n",
    "    data = []\n",
    "    last_date = None\n",
    "    \n",
    "    for i in range(n):\n",
    "        time.sleep(0.3)\n",
    "\n",
    "        if i == 0:\n",
    "            tmp_data = min_request(trCode=\"OPT10080\", n=0, **params)\n",
    "        else:\n",
    "            tmp_data = min_request(trCode=\"OPT10080\", n=2, **params)\n",
    "                \n",
    "        if tmp_data['멀티데이터'][-1]['체결시간'] != last_date:\n",
    "            print(last_date)\n",
    "            data.append(tmp_data)\n",
    "            last_date = tmp_data['멀티데이터'][-1]['체결시간']\n",
    "        else:\n",
    "            print(code, \" 마지막 i=\",i)\n",
    "            break\n",
    "        \n",
    "    tmp = pd.DataFrame(data[0]['멀티데이터'])\n",
    "\n",
    "    for i in range(1, len(data)):\n",
    "        tmp = tmp.append(pd.DataFrame(data[i]['멀티데이터']))\n",
    "\n",
    "    tmp = tmp.reset_index(drop=True).loc[:, [\"체결시간\", \"현재가\", \"시가\", \"고가\", \"저가\", \"거래량\"]]\n",
    "        \n",
    "    return tmp"
   ]
  },
  {
   "cell_type": "code",
   "execution_count": 9,
   "metadata": {},
   "outputs": [],
   "source": [
    "def get_min_data_from_codes():\n",
    "    for i in range(len(Kospi_codes)):\n",
    "        code = '%06d' % Kospi_codes.iloc[i, 1]\n",
    "        min_data = get_min_data(code, 3)\n",
    "        min_data.to_csv('{}_{}_.csv')"
   ]
  },
  {
   "cell_type": "code",
   "execution_count": 20,
   "metadata": {
    "collapsed": true,
    "jupyter": {
     "outputs_hidden": true
    }
   },
   "outputs": [
    {
     "name": "stdout",
     "output_type": "stream",
     "text": [
      "0 005930 삼성전자\n"
     ]
    },
    {
     "name": "stderr",
     "output_type": "stream",
     "text": [
      "2020-06-12 13:48:54.668795  commRqData 주식분봉차트조회요청\n",
      "{'BASC_DT': '2020-06-12',\n",
      " 'EVENT': 'eventReceiveTrData',\n",
      " 'REQUEST_NAME': '주식분봉차트조회요청',\n",
      " 'TIME': '2020-06-12 13:48:56.972633',\n",
      " 'TR_CODE': 'OPT10080'}\n"
     ]
    },
    {
     "name": "stdout",
     "output_type": "stream",
     "text": [
      "None\n"
     ]
    },
    {
     "name": "stderr",
     "output_type": "stream",
     "text": [
      "2020-06-12 13:48:57.391491  commRqData 주식분봉차트조회요청\n",
      "{'BASC_DT': '2020-06-12',\n",
      " 'EVENT': 'eventReceiveTrData',\n",
      " 'REQUEST_NAME': '주식분봉차트조회요청',\n",
      " 'TIME': '2020-06-12 13:48:57.720602',\n",
      " 'TR_CODE': 'OPT10080'}\n"
     ]
    },
    {
     "name": "stdout",
     "output_type": "stream",
     "text": [
      "20200610113300\n"
     ]
    },
    {
     "name": "stderr",
     "output_type": "stream",
     "text": [
      "2020-06-12 13:48:58.136491  commRqData 주식분봉차트조회요청\n",
      "{'BASC_DT': '2020-06-12',\n",
      " 'EVENT': 'eventReceiveTrData',\n",
      " 'REQUEST_NAME': '주식분봉차트조회요청',\n",
      " 'TIME': '2020-06-12 13:48:58.499547',\n",
      " 'TR_CODE': 'OPT10080'}\n"
     ]
    },
    {
     "name": "stdout",
     "output_type": "stream",
     "text": [
      "20200608091700\n"
     ]
    },
    {
     "name": "stderr",
     "output_type": "stream",
     "text": [
      "2020-06-12 13:48:58.916406  commRqData 주식분봉차트조회요청\n",
      "{'BASC_DT': '2020-06-12',\n",
      " 'EVENT': 'eventReceiveTrData',\n",
      " 'REQUEST_NAME': '주식분봉차트조회요청',\n",
      " 'TIME': '2020-06-12 13:48:59.232589',\n",
      " 'TR_CODE': 'OPT10080'}\n"
     ]
    },
    {
     "name": "stdout",
     "output_type": "stream",
     "text": [
      "20200603132300\n"
     ]
    },
    {
     "name": "stderr",
     "output_type": "stream",
     "text": [
      "2020-06-12 13:48:59.648491  commRqData 주식분봉차트조회요청\n",
      "{'BASC_DT': '2020-06-12',\n",
      " 'EVENT': 'eventReceiveTrData',\n",
      " 'REQUEST_NAME': '주식분봉차트조회요청',\n",
      " 'TIME': '2020-06-12 13:48:59.978595',\n",
      " 'TR_CODE': 'OPT10080'}\n"
     ]
    },
    {
     "name": "stdout",
     "output_type": "stream",
     "text": [
      "20200601110700\n"
     ]
    },
    {
     "name": "stderr",
     "output_type": "stream",
     "text": [
      "2020-06-12 13:49:00.394452  commRqData 주식분봉차트조회요청\n",
      "{'BASC_DT': '2020-06-12',\n",
      " 'EVENT': 'eventReceiveTrData',\n",
      " 'REQUEST_NAME': '주식분봉차트조회요청',\n",
      " 'TIME': '2020-06-12 13:49:00.749501',\n",
      " 'TR_CODE': 'OPT10080'}\n"
     ]
    },
    {
     "name": "stdout",
     "output_type": "stream",
     "text": [
      "20200527151300\n"
     ]
    },
    {
     "name": "stderr",
     "output_type": "stream",
     "text": [
      "2020-06-12 13:49:01.164392  commRqData 주식분봉차트조회요청\n",
      "{'BASC_DT': '2020-06-12',\n",
      " 'EVENT': 'eventReceiveTrData',\n",
      " 'REQUEST_NAME': '주식분봉차트조회요청',\n",
      " 'TIME': '2020-06-12 13:49:01.523432',\n",
      " 'TR_CODE': 'OPT10080'}\n"
     ]
    },
    {
     "name": "stdout",
     "output_type": "stream",
     "text": [
      "20200525125700\n"
     ]
    },
    {
     "name": "stderr",
     "output_type": "stream",
     "text": [
      "2020-06-12 13:49:01.939322  commRqData 주식분봉차트조회요청\n",
      "{'BASC_DT': '2020-06-12',\n",
      " 'EVENT': 'eventReceiveTrData',\n",
      " 'REQUEST_NAME': '주식분봉차트조회요청',\n",
      " 'TIME': '2020-06-12 13:49:02.269437',\n",
      " 'TR_CODE': 'OPT10080'}\n"
     ]
    },
    {
     "name": "stdout",
     "output_type": "stream",
     "text": [
      "20200521104100\n"
     ]
    },
    {
     "name": "stderr",
     "output_type": "stream",
     "text": [
      "2020-06-12 13:49:02.688334  commRqData 주식분봉차트조회요청\n",
      "{'BASC_DT': '2020-06-12',\n",
      " 'EVENT': 'eventReceiveTrData',\n",
      " 'REQUEST_NAME': '주식분봉차트조회요청',\n",
      " 'TIME': '2020-06-12 13:49:03.046361',\n",
      " 'TR_CODE': 'OPT10080'}\n"
     ]
    },
    {
     "name": "stdout",
     "output_type": "stream",
     "text": [
      "20200518144700\n"
     ]
    },
    {
     "name": "stderr",
     "output_type": "stream",
     "text": [
      "2020-06-12 13:49:03.465242  commRqData 주식분봉차트조회요청\n",
      "{'BASC_DT': '2020-06-12',\n",
      " 'EVENT': 'eventReceiveTrData',\n",
      " 'REQUEST_NAME': '주식분봉차트조회요청',\n",
      " 'TIME': '2020-06-12 13:49:03.793387',\n",
      " 'TR_CODE': 'OPT10080'}\n"
     ]
    },
    {
     "name": "stdout",
     "output_type": "stream",
     "text": [
      "20200514123100\n"
     ]
    },
    {
     "name": "stderr",
     "output_type": "stream",
     "text": [
      "2020-06-12 13:49:04.209249  commRqData 주식분봉차트조회요청\n",
      "{'BASC_DT': '2020-06-12',\n",
      " 'EVENT': 'eventReceiveTrData',\n",
      " 'REQUEST_NAME': '주식분봉차트조회요청',\n",
      " 'TIME': '2020-06-12 13:49:04.535407',\n",
      " 'TR_CODE': 'OPT10080'}\n"
     ]
    },
    {
     "name": "stdout",
     "output_type": "stream",
     "text": [
      "20200512101500\n"
     ]
    },
    {
     "name": "stderr",
     "output_type": "stream",
     "text": [
      "2020-06-12 13:49:04.951268  commRqData 주식분봉차트조회요청\n",
      "{'BASC_DT': '2020-06-12',\n",
      " 'EVENT': 'eventReceiveTrData',\n",
      " 'REQUEST_NAME': '주식분봉차트조회요청',\n",
      " 'TIME': '2020-06-12 13:49:05.293350',\n",
      " 'TR_CODE': 'OPT10080'}\n"
     ]
    },
    {
     "name": "stdout",
     "output_type": "stream",
     "text": [
      "20200507142100\n"
     ]
    },
    {
     "name": "stderr",
     "output_type": "stream",
     "text": [
      "2020-06-12 13:49:05.709332  commRqData 주식분봉차트조회요청\n",
      "{'BASC_DT': '2020-06-12',\n",
      " 'EVENT': 'eventReceiveTrData',\n",
      " 'REQUEST_NAME': '주식분봉차트조회요청',\n",
      " 'TIME': '2020-06-12 13:49:06.086231',\n",
      " 'TR_CODE': 'OPT10080'}\n"
     ]
    },
    {
     "name": "stdout",
     "output_type": "stream",
     "text": [
      "20200504120500\n"
     ]
    },
    {
     "name": "stderr",
     "output_type": "stream",
     "text": [
      "2020-06-12 13:49:06.501121  commRqData 주식분봉차트조회요청\n",
      "{'BASC_DT': '2020-06-12',\n",
      " 'EVENT': 'eventReceiveTrData',\n",
      " 'REQUEST_NAME': '주식분봉차트조회요청',\n",
      " 'TIME': '2020-06-12 13:49:06.848193',\n",
      " 'TR_CODE': 'OPT10080'}\n"
     ]
    },
    {
     "name": "stdout",
     "output_type": "stream",
     "text": [
      "20200428094900\n"
     ]
    },
    {
     "name": "stderr",
     "output_type": "stream",
     "text": [
      "2020-06-12 13:49:07.264118  commRqData 주식분봉차트조회요청\n",
      "{'BASC_DT': '2020-06-12',\n",
      " 'EVENT': 'eventReceiveTrData',\n",
      " 'REQUEST_NAME': '주식분봉차트조회요청',\n",
      " 'TIME': '2020-06-12 13:49:07.623145',\n",
      " 'TR_CODE': 'OPT10080'}\n"
     ]
    },
    {
     "name": "stdout",
     "output_type": "stream",
     "text": [
      "20200423135500\n"
     ]
    },
    {
     "name": "stderr",
     "output_type": "stream",
     "text": [
      "2020-06-12 13:49:08.043994  commRqData 주식분봉차트조회요청\n",
      "{'BASC_DT': '2020-06-12',\n",
      " 'EVENT': 'eventReceiveTrData',\n",
      " 'REQUEST_NAME': '주식분봉차트조회요청',\n",
      " 'TIME': '2020-06-12 13:49:08.409019',\n",
      " 'TR_CODE': 'OPT10080'}\n"
     ]
    },
    {
     "name": "stdout",
     "output_type": "stream",
     "text": [
      "20200421113900\n"
     ]
    },
    {
     "name": "stderr",
     "output_type": "stream",
     "text": [
      "2020-06-12 13:49:08.824905  commRqData 주식분봉차트조회요청\n",
      "{'BASC_DT': '2020-06-12',\n",
      " 'EVENT': 'eventReceiveTrData',\n",
      " 'REQUEST_NAME': '주식분봉차트조회요청',\n",
      " 'TIME': '2020-06-12 13:49:09.200901',\n",
      " 'TR_CODE': 'OPT10080'}\n"
     ]
    },
    {
     "name": "stdout",
     "output_type": "stream",
     "text": [
      "20200417092300\n"
     ]
    },
    {
     "name": "stderr",
     "output_type": "stream",
     "text": [
      "2020-06-12 13:49:09.615792  commRqData 주식분봉차트조회요청\n",
      "{'BASC_DT': '2020-06-12',\n",
      " 'EVENT': 'eventReceiveTrData',\n",
      " 'REQUEST_NAME': '주식분봉차트조회요청',\n",
      " 'TIME': '2020-06-12 13:49:09.980840',\n",
      " 'TR_CODE': 'OPT10080'}\n"
     ]
    },
    {
     "name": "stdout",
     "output_type": "stream",
     "text": [
      "20200413132900\n"
     ]
    },
    {
     "name": "stderr",
     "output_type": "stream",
     "text": [
      "2020-06-12 13:49:10.397729  commRqData 주식분봉차트조회요청\n",
      "{'BASC_DT': '2020-06-12',\n",
      " 'EVENT': 'eventReceiveTrData',\n",
      " 'REQUEST_NAME': '주식분봉차트조회요청',\n",
      " 'TIME': '2020-06-12 13:49:10.730835',\n",
      " 'TR_CODE': 'OPT10080'}\n"
     ]
    },
    {
     "name": "stdout",
     "output_type": "stream",
     "text": [
      "20200409111300\n"
     ]
    },
    {
     "name": "stderr",
     "output_type": "stream",
     "text": [
      "2020-06-12 13:49:11.147721  commRqData 주식분봉차트조회요청\n",
      "{'BASC_DT': '2020-06-12',\n",
      " 'EVENT': 'eventReceiveTrData',\n",
      " 'REQUEST_NAME': '주식분봉차트조회요청',\n",
      " 'TIME': '2020-06-12 13:49:11.470860',\n",
      " 'TR_CODE': 'OPT10080'}\n"
     ]
    },
    {
     "name": "stdout",
     "output_type": "stream",
     "text": [
      "20200406151900\n"
     ]
    },
    {
     "name": "stderr",
     "output_type": "stream",
     "text": [
      "2020-06-12 13:49:11.886718  commRqData 주식분봉차트조회요청\n",
      "{'BASC_DT': '2020-06-12',\n",
      " 'EVENT': 'eventReceiveTrData',\n",
      " 'REQUEST_NAME': '주식분봉차트조회요청',\n",
      " 'TIME': '2020-06-12 13:49:12.261717',\n",
      " 'TR_CODE': 'OPT10080'}\n"
     ]
    },
    {
     "name": "stdout",
     "output_type": "stream",
     "text": [
      "20200402130300\n"
     ]
    },
    {
     "name": "stderr",
     "output_type": "stream",
     "text": [
      "2020-06-12 13:49:12.681594  commRqData 주식분봉차트조회요청\n",
      "{'BASC_DT': '2020-06-12',\n",
      " 'EVENT': 'eventReceiveTrData',\n",
      " 'REQUEST_NAME': '주식분봉차트조회요청',\n",
      " 'TIME': '2020-06-12 13:49:13.037640',\n",
      " 'TR_CODE': 'OPT10080'}\n"
     ]
    },
    {
     "name": "stdout",
     "output_type": "stream",
     "text": [
      "20200331104700\n"
     ]
    },
    {
     "name": "stderr",
     "output_type": "stream",
     "text": [
      "2020-06-12 13:49:13.453538  commRqData 주식분봉차트조회요청\n",
      "{'BASC_DT': '2020-06-12',\n",
      " 'EVENT': 'eventReceiveTrData',\n",
      " 'REQUEST_NAME': '주식분봉차트조회요청',\n",
      " 'TIME': '2020-06-12 13:49:13.778689',\n",
      " 'TR_CODE': 'OPT10080'}\n"
     ]
    },
    {
     "name": "stdout",
     "output_type": "stream",
     "text": [
      "20200326145300\n"
     ]
    },
    {
     "name": "stderr",
     "output_type": "stream",
     "text": [
      "2020-06-12 13:49:14.193548  commRqData 주식분봉차트조회요청\n",
      "{'BASC_DT': '2020-06-12',\n",
      " 'EVENT': 'eventReceiveTrData',\n",
      " 'REQUEST_NAME': '주식분봉차트조회요청',\n",
      " 'TIME': '2020-06-12 13:49:14.507707',\n",
      " 'TR_CODE': 'OPT10080'}\n"
     ]
    },
    {
     "name": "stdout",
     "output_type": "stream",
     "text": [
      "20200324123700\n"
     ]
    },
    {
     "name": "stderr",
     "output_type": "stream",
     "text": [
      "2020-06-12 13:49:14.924593  commRqData 주식분봉차트조회요청\n",
      "{'BASC_DT': '2020-06-12',\n",
      " 'EVENT': 'eventReceiveTrData',\n",
      " 'REQUEST_NAME': '주식분봉차트조회요청',\n",
      " 'TIME': '2020-06-12 13:49:15.268674',\n",
      " 'TR_CODE': 'OPT10080'}\n"
     ]
    },
    {
     "name": "stdout",
     "output_type": "stream",
     "text": [
      "20200320102100\n"
     ]
    },
    {
     "name": "stderr",
     "output_type": "stream",
     "text": [
      "2020-06-12 13:49:15.684592  commRqData 주식분봉차트조회요청\n",
      "{'BASC_DT': '2020-06-12',\n",
      " 'EVENT': 'eventReceiveTrData',\n",
      " 'REQUEST_NAME': '주식분봉차트조회요청',\n",
      " 'TIME': '2020-06-12 13:49:16.009692',\n",
      " 'TR_CODE': 'OPT10080'}\n"
     ]
    },
    {
     "name": "stdout",
     "output_type": "stream",
     "text": [
      "20200317135800\n"
     ]
    },
    {
     "name": "stderr",
     "output_type": "stream",
     "text": [
      "2020-06-12 13:49:16.426576  commRqData 주식분봉차트조회요청\n",
      "{'BASC_DT': '2020-06-12',\n",
      " 'EVENT': 'eventReceiveTrData',\n",
      " 'REQUEST_NAME': '주식분봉차트조회요청',\n",
      " 'TIME': '2020-06-12 13:49:16.760714',\n",
      " 'TR_CODE': 'OPT10080'}\n"
     ]
    },
    {
     "name": "stdout",
     "output_type": "stream",
     "text": [
      "20200313114200\n"
     ]
    },
    {
     "name": "stderr",
     "output_type": "stream",
     "text": [
      "2020-06-12 13:49:17.176623  commRqData 주식분봉차트조회요청\n",
      "{'BASC_DT': '2020-06-12',\n",
      " 'EVENT': 'eventReceiveTrData',\n",
      " 'REQUEST_NAME': '주식분봉차트조회요청',\n",
      " 'TIME': '2020-06-12 13:49:17.487738',\n",
      " 'TR_CODE': 'OPT10080'}\n"
     ]
    },
    {
     "name": "stdout",
     "output_type": "stream",
     "text": [
      "20200310151800\n"
     ]
    },
    {
     "name": "stderr",
     "output_type": "stream",
     "text": [
      "2020-06-12 13:49:17.903626  commRqData 주식분봉차트조회요청\n",
      "{'BASC_DT': '2020-06-12',\n",
      " 'EVENT': 'eventReceiveTrData',\n",
      " 'REQUEST_NAME': '주식분봉차트조회요청',\n",
      " 'TIME': '2020-06-12 13:49:18.227759',\n",
      " 'TR_CODE': 'OPT10080'}\n"
     ]
    },
    {
     "name": "stdout",
     "output_type": "stream",
     "text": [
      "20200306130200\n"
     ]
    },
    {
     "name": "stderr",
     "output_type": "stream",
     "text": [
      "2020-06-12 13:49:18.642656  commRqData 주식분봉차트조회요청\n",
      "{'BASC_DT': '2020-06-12',\n",
      " 'EVENT': 'eventReceiveTrData',\n",
      " 'REQUEST_NAME': '주식분봉차트조회요청',\n",
      " 'TIME': '2020-06-12 13:49:18.953844',\n",
      " 'TR_CODE': 'OPT10080'}\n"
     ]
    },
    {
     "name": "stdout",
     "output_type": "stream",
     "text": [
      "20200304104600\n"
     ]
    },
    {
     "name": "stderr",
     "output_type": "stream",
     "text": [
      "2020-06-12 13:49:19.368759  commRqData 주식분봉차트조회요청\n",
      "{'BASC_DT': '2020-06-12',\n",
      " 'EVENT': 'eventReceiveTrData',\n",
      " 'REQUEST_NAME': '주식분봉차트조회요청',\n",
      " 'TIME': '2020-06-12 13:49:19.695832',\n",
      " 'TR_CODE': 'OPT10080'}\n"
     ]
    },
    {
     "name": "stdout",
     "output_type": "stream",
     "text": [
      "20200228145200\n"
     ]
    },
    {
     "name": "stderr",
     "output_type": "stream",
     "text": [
      "2020-06-12 13:49:20.112720  commRqData 주식분봉차트조회요청\n",
      "{'BASC_DT': '2020-06-12',\n",
      " 'EVENT': 'eventReceiveTrData',\n",
      " 'REQUEST_NAME': '주식분봉차트조회요청',\n",
      " 'TIME': '2020-06-12 13:49:20.473784',\n",
      " 'TR_CODE': 'OPT10080'}\n"
     ]
    },
    {
     "name": "stdout",
     "output_type": "stream",
     "text": [
      "20200226123600\n"
     ]
    },
    {
     "name": "stderr",
     "output_type": "stream",
     "text": [
      "2020-06-12 13:49:20.890638  commRqData 주식분봉차트조회요청\n",
      "{'BASC_DT': '2020-06-12',\n",
      " 'EVENT': 'eventReceiveTrData',\n",
      " 'REQUEST_NAME': '주식분봉차트조회요청',\n",
      " 'TIME': '2020-06-12 13:49:21.206824',\n",
      " 'TR_CODE': 'OPT10080'}\n"
     ]
    },
    {
     "name": "stdout",
     "output_type": "stream",
     "text": [
      "20200224102000\n"
     ]
    },
    {
     "name": "stderr",
     "output_type": "stream",
     "text": [
      "2020-06-12 13:49:21.622714  commRqData 주식분봉차트조회요청\n",
      "{'BASC_DT': '2020-06-12',\n",
      " 'EVENT': 'eventReceiveTrData',\n",
      " 'REQUEST_NAME': '주식분봉차트조회요청',\n",
      " 'TIME': '2020-06-12 13:49:21.950833',\n",
      " 'TR_CODE': 'OPT10080'}\n"
     ]
    },
    {
     "name": "stdout",
     "output_type": "stream",
     "text": [
      "20200219142600\n"
     ]
    },
    {
     "name": "stderr",
     "output_type": "stream",
     "text": [
      "2020-06-12 13:49:22.370680  commRqData 주식분봉차트조회요청\n",
      "{'BASC_DT': '2020-06-12',\n",
      " 'EVENT': 'eventReceiveTrData',\n",
      " 'REQUEST_NAME': '주식분봉차트조회요청',\n",
      " 'TIME': '2020-06-12 13:49:22.713763',\n",
      " 'TR_CODE': 'OPT10080'}\n"
     ]
    },
    {
     "name": "stdout",
     "output_type": "stream",
     "text": [
      "20200217121000\n"
     ]
    },
    {
     "name": "stderr",
     "output_type": "stream",
     "text": [
      "2020-06-12 13:49:23.128695  commRqData 주식분봉차트조회요청\n",
      "{'BASC_DT': '2020-06-12',\n",
      " 'EVENT': 'eventReceiveTrData',\n",
      " 'REQUEST_NAME': '주식분봉차트조회요청',\n",
      " 'TIME': '2020-06-12 13:49:23.458770',\n",
      " 'TR_CODE': 'OPT10080'}\n"
     ]
    },
    {
     "name": "stdout",
     "output_type": "stream",
     "text": [
      "20200213095400\n"
     ]
    },
    {
     "name": "stderr",
     "output_type": "stream",
     "text": [
      "2020-06-12 13:49:23.873662  commRqData 주식분봉차트조회요청\n",
      "{'BASC_DT': '2020-06-12',\n",
      " 'EVENT': 'eventReceiveTrData',\n",
      " 'REQUEST_NAME': '주식분봉차트조회요청',\n",
      " 'TIME': '2020-06-12 13:49:24.193804',\n",
      " 'TR_CODE': 'OPT10080'}\n"
     ]
    },
    {
     "name": "stdout",
     "output_type": "stream",
     "text": [
      "20200210140000\n"
     ]
    },
    {
     "name": "stderr",
     "output_type": "stream",
     "text": [
      "2020-06-12 13:49:24.608758  commRqData 주식분봉차트조회요청\n",
      "{'BASC_DT': '2020-06-12',\n",
      " 'EVENT': 'eventReceiveTrData',\n",
      " 'REQUEST_NAME': '주식분봉차트조회요청',\n",
      " 'TIME': '2020-06-12 13:49:24.969730',\n",
      " 'TR_CODE': 'OPT10080'}\n"
     ]
    },
    {
     "name": "stdout",
     "output_type": "stream",
     "text": [
      "20200206114400\n"
     ]
    },
    {
     "name": "stderr",
     "output_type": "stream",
     "text": [
      "2020-06-12 13:49:25.384620  commRqData 주식분봉차트조회요청\n",
      "{'BASC_DT': '2020-06-12',\n",
      " 'EVENT': 'eventReceiveTrData',\n",
      " 'REQUEST_NAME': '주식분봉차트조회요청',\n",
      " 'TIME': '2020-06-12 13:49:25.717730',\n",
      " 'TR_CODE': 'OPT10080'}\n"
     ]
    },
    {
     "name": "stdout",
     "output_type": "stream",
     "text": [
      "20200204092800\n"
     ]
    },
    {
     "name": "stderr",
     "output_type": "stream",
     "text": [
      "2020-06-12 13:49:26.133617  commRqData 주식분봉차트조회요청\n",
      "{'BASC_DT': '2020-06-12',\n",
      " 'EVENT': 'eventReceiveTrData',\n",
      " 'REQUEST_NAME': '주식분봉차트조회요청',\n",
      " 'TIME': '2020-06-12 13:49:26.478695',\n",
      " 'TR_CODE': 'OPT10080'}\n"
     ]
    },
    {
     "name": "stdout",
     "output_type": "stream",
     "text": [
      "20200130133400\n"
     ]
    },
    {
     "name": "stderr",
     "output_type": "stream",
     "text": [
      "2020-06-12 13:49:26.894584  commRqData 주식분봉차트조회요청\n",
      "{'BASC_DT': '2020-06-12',\n",
      " 'EVENT': 'eventReceiveTrData',\n",
      " 'REQUEST_NAME': '주식분봉차트조회요청',\n",
      " 'TIME': '2020-06-12 13:49:27.210767',\n",
      " 'TR_CODE': 'OPT10080'}\n"
     ]
    },
    {
     "name": "stdout",
     "output_type": "stream",
     "text": [
      "20200128111800\n"
     ]
    },
    {
     "name": "stderr",
     "output_type": "stream",
     "text": [
      "2020-06-12 13:49:27.625668  commRqData 주식분봉차트조회요청\n",
      "{'BASC_DT': '2020-06-12',\n",
      " 'EVENT': 'eventReceiveTrData',\n",
      " 'REQUEST_NAME': '주식분봉차트조회요청',\n",
      " 'TIME': '2020-06-12 13:49:27.969707',\n",
      " 'TR_CODE': 'OPT10080'}\n"
     ]
    },
    {
     "name": "stdout",
     "output_type": "stream",
     "text": [
      "20200122090200\n"
     ]
    },
    {
     "name": "stderr",
     "output_type": "stream",
     "text": [
      "2020-06-12 13:49:28.386592  commRqData 주식분봉차트조회요청\n",
      "{'BASC_DT': '2020-06-12',\n",
      " 'EVENT': 'eventReceiveTrData',\n",
      " 'REQUEST_NAME': '주식분봉차트조회요청',\n",
      " 'TIME': '2020-06-12 13:49:28.747628',\n",
      " 'TR_CODE': 'OPT10080'}\n"
     ]
    },
    {
     "name": "stdout",
     "output_type": "stream",
     "text": [
      "20200117130800\n"
     ]
    },
    {
     "name": "stderr",
     "output_type": "stream",
     "text": [
      "2020-06-12 13:49:29.164519  commRqData 주식분봉차트조회요청\n",
      "{'BASC_DT': '2020-06-12',\n",
      " 'EVENT': 'eventReceiveTrData',\n",
      " 'REQUEST_NAME': '주식분봉차트조회요청',\n",
      " 'TIME': '2020-06-12 13:49:29.508592',\n",
      " 'TR_CODE': 'OPT10080'}\n"
     ]
    },
    {
     "name": "stdout",
     "output_type": "stream",
     "text": [
      "20200115105200\n"
     ]
    },
    {
     "name": "stderr",
     "output_type": "stream",
     "text": [
      "2020-06-12 13:49:29.925478  commRqData 주식분봉차트조회요청\n",
      "{'BASC_DT': '2020-06-12',\n",
      " 'EVENT': 'eventReceiveTrData',\n",
      " 'REQUEST_NAME': '주식분봉차트조회요청',\n",
      " 'TIME': '2020-06-12 13:49:30.273545',\n",
      " 'TR_CODE': 'OPT10080'}\n"
     ]
    },
    {
     "name": "stdout",
     "output_type": "stream",
     "text": [
      "20200110145800\n"
     ]
    },
    {
     "name": "stderr",
     "output_type": "stream",
     "text": [
      "2020-06-12 13:49:30.689435  commRqData 주식분봉차트조회요청\n",
      "{'BASC_DT': '2020-06-12',\n",
      " 'EVENT': 'eventReceiveTrData',\n",
      " 'REQUEST_NAME': '주식분봉차트조회요청',\n",
      " 'TIME': '2020-06-12 13:49:31.130254',\n",
      " 'TR_CODE': 'OPT10080'}\n"
     ]
    },
    {
     "name": "stdout",
     "output_type": "stream",
     "text": [
      "20200108124200\n"
     ]
    },
    {
     "name": "stderr",
     "output_type": "stream",
     "text": [
      "2020-06-12 13:49:31.548168  commRqData 주식분봉차트조회요청\n",
      "{'BASC_DT': '2020-06-12',\n",
      " 'EVENT': 'eventReceiveTrData',\n",
      " 'REQUEST_NAME': '주식분봉차트조회요청',\n",
      " 'TIME': '2020-06-12 13:49:31.879252',\n",
      " 'TR_CODE': 'OPT10080'}\n"
     ]
    },
    {
     "name": "stdout",
     "output_type": "stream",
     "text": [
      "20200106102600\n"
     ]
    },
    {
     "name": "stderr",
     "output_type": "stream",
     "text": [
      "2020-06-12 13:49:32.294210  commRqData 주식분봉차트조회요청\n",
      "{'BASC_DT': '2020-06-12',\n",
      " 'EVENT': 'eventReceiveTrData',\n",
      " 'REQUEST_NAME': '주식분봉차트조회요청',\n",
      " 'TIME': '2020-06-12 13:49:32.624286',\n",
      " 'TR_CODE': 'OPT10080'}\n"
     ]
    },
    {
     "name": "stdout",
     "output_type": "stream",
     "text": [
      "20191230133200\n"
     ]
    },
    {
     "name": "stderr",
     "output_type": "stream",
     "text": [
      "2020-06-12 13:49:33.039153  commRqData 주식분봉차트조회요청\n",
      "{'BASC_DT': '2020-06-12',\n",
      " 'EVENT': 'eventReceiveTrData',\n",
      " 'REQUEST_NAME': '주식분봉차트조회요청',\n",
      " 'TIME': '2020-06-12 13:49:33.394200',\n",
      " 'TR_CODE': 'OPT10080'}\n"
     ]
    },
    {
     "name": "stdout",
     "output_type": "stream",
     "text": [
      "20191226111600\n"
     ]
    },
    {
     "name": "stderr",
     "output_type": "stream",
     "text": [
      "2020-06-12 13:49:33.810090  commRqData 주식분봉차트조회요청\n",
      "{'BASC_DT': '2020-06-12',\n",
      " 'EVENT': 'eventReceiveTrData',\n",
      " 'REQUEST_NAME': '주식분봉차트조회요청',\n",
      " 'TIME': '2020-06-12 13:49:34.189073',\n",
      " 'TR_CODE': 'OPT10080'}\n"
     ]
    },
    {
     "name": "stdout",
     "output_type": "stream",
     "text": [
      "20191223090000\n"
     ]
    },
    {
     "name": "stderr",
     "output_type": "stream",
     "text": [
      "2020-06-12 13:49:34.604973  commRqData 주식분봉차트조회요청\n",
      "{'BASC_DT': '2020-06-12',\n",
      " 'EVENT': 'eventReceiveTrData',\n",
      " 'REQUEST_NAME': '주식분봉차트조회요청',\n",
      " 'TIME': '2020-06-12 13:49:34.951038',\n",
      " 'TR_CODE': 'OPT10080'}\n"
     ]
    },
    {
     "name": "stdout",
     "output_type": "stream",
     "text": [
      "20191218130600\n"
     ]
    },
    {
     "name": "stderr",
     "output_type": "stream",
     "text": [
      "2020-06-12 13:49:35.369920  commRqData 주식분봉차트조회요청\n",
      "{'BASC_DT': '2020-06-12',\n",
      " 'EVENT': 'eventReceiveTrData',\n",
      " 'REQUEST_NAME': '주식분봉차트조회요청',\n",
      " 'TIME': '2020-06-12 13:49:35.741952',\n",
      " 'TR_CODE': 'OPT10080'}\n"
     ]
    },
    {
     "name": "stdout",
     "output_type": "stream",
     "text": [
      "20191216105000\n"
     ]
    },
    {
     "name": "stderr",
     "output_type": "stream",
     "text": [
      "2020-06-12 13:49:36.158833  commRqData 주식분봉차트조회요청\n",
      "{'BASC_DT': '2020-06-12',\n",
      " 'EVENT': 'eventReceiveTrData',\n",
      " 'REQUEST_NAME': '주식분봉차트조회요청',\n",
      " 'TIME': '2020-06-12 13:49:36.505879',\n",
      " 'TR_CODE': 'OPT10080'}\n"
     ]
    },
    {
     "name": "stdout",
     "output_type": "stream",
     "text": [
      "20191211145600\n"
     ]
    },
    {
     "name": "stderr",
     "output_type": "stream",
     "text": [
      "2020-06-12 13:49:36.919878  commRqData 주식분봉차트조회요청\n",
      "{'BASC_DT': '2020-06-12',\n",
      " 'EVENT': 'eventReceiveTrData',\n",
      " 'REQUEST_NAME': '주식분봉차트조회요청',\n",
      " 'TIME': '2020-06-12 13:49:37.265847',\n",
      " 'TR_CODE': 'OPT10080'}\n"
     ]
    },
    {
     "name": "stdout",
     "output_type": "stream",
     "text": [
      "20191209124000\n"
     ]
    },
    {
     "name": "stderr",
     "output_type": "stream",
     "text": [
      "2020-06-12 13:49:37.684795  commRqData 주식분봉차트조회요청\n",
      "{'BASC_DT': '2020-06-12',\n",
      " 'EVENT': 'eventReceiveTrData',\n",
      " 'REQUEST_NAME': '주식분봉차트조회요청',\n",
      " 'TIME': '2020-06-12 13:49:38.038778',\n",
      " 'TR_CODE': 'OPT10080'}\n"
     ]
    },
    {
     "name": "stdout",
     "output_type": "stream",
     "text": [
      "20191205102400\n"
     ]
    },
    {
     "name": "stderr",
     "output_type": "stream",
     "text": [
      "2020-06-12 13:49:38.454668  commRqData 주식분봉차트조회요청\n",
      "{'BASC_DT': '2020-06-12',\n",
      " 'EVENT': 'eventReceiveTrData',\n",
      " 'REQUEST_NAME': '주식분봉차트조회요청',\n",
      " 'TIME': '2020-06-12 13:49:38.794767',\n",
      " 'TR_CODE': 'OPT10080'}\n"
     ]
    },
    {
     "name": "stdout",
     "output_type": "stream",
     "text": [
      "20191202143000\n"
     ]
    },
    {
     "name": "stderr",
     "output_type": "stream",
     "text": [
      "2020-06-12 13:49:39.213638  commRqData 주식분봉차트조회요청\n",
      "{'BASC_DT': '2020-06-12',\n",
      " 'EVENT': 'eventReceiveTrData',\n",
      " 'REQUEST_NAME': '주식분봉차트조회요청',\n",
      " 'TIME': '2020-06-12 13:49:39.560708',\n",
      " 'TR_CODE': 'OPT10080'}\n"
     ]
    },
    {
     "name": "stdout",
     "output_type": "stream",
     "text": [
      "20191128121400\n"
     ]
    },
    {
     "name": "stderr",
     "output_type": "stream",
     "text": [
      "2020-06-12 13:49:39.976601  commRqData 주식분봉차트조회요청\n",
      "{'BASC_DT': '2020-06-12',\n",
      " 'EVENT': 'eventReceiveTrData',\n",
      " 'REQUEST_NAME': '주식분봉차트조회요청',\n",
      " 'TIME': '2020-06-12 13:49:40.323669',\n",
      " 'TR_CODE': 'OPT10080'}\n"
     ]
    },
    {
     "name": "stdout",
     "output_type": "stream",
     "text": [
      "20191126095800\n"
     ]
    },
    {
     "name": "stderr",
     "output_type": "stream",
     "text": [
      "2020-06-12 13:49:40.739558  commRqData 주식분봉차트조회요청\n",
      "{'BASC_DT': '2020-06-12',\n",
      " 'EVENT': 'eventReceiveTrData',\n",
      " 'REQUEST_NAME': '주식분봉차트조회요청',\n",
      " 'TIME': '2020-06-12 13:49:41.073663',\n",
      " 'TR_CODE': 'OPT10080'}\n"
     ]
    },
    {
     "name": "stdout",
     "output_type": "stream",
     "text": [
      "20191121140400\n"
     ]
    },
    {
     "name": "stderr",
     "output_type": "stream",
     "text": [
      "2020-06-12 13:49:41.488554  commRqData 주식분봉차트조회요청\n",
      "{'BASC_DT': '2020-06-12',\n",
      " 'EVENT': 'eventReceiveTrData',\n",
      " 'REQUEST_NAME': '주식분봉차트조회요청',\n",
      " 'TIME': '2020-06-12 13:49:41.904444',\n",
      " 'TR_CODE': 'OPT10080'}\n"
     ]
    },
    {
     "name": "stdout",
     "output_type": "stream",
     "text": [
      "20191119114800\n"
     ]
    },
    {
     "name": "stderr",
     "output_type": "stream",
     "text": [
      "2020-06-12 13:49:42.322324  commRqData 주식분봉차트조회요청\n",
      "{'BASC_DT': '2020-06-12',\n",
      " 'EVENT': 'eventReceiveTrData',\n",
      " 'REQUEST_NAME': '주식분봉차트조회요청',\n",
      " 'TIME': '2020-06-12 13:49:42.681363',\n",
      " 'TR_CODE': 'OPT10080'}\n"
     ]
    },
    {
     "name": "stdout",
     "output_type": "stream",
     "text": [
      "20191115093200\n"
     ]
    },
    {
     "name": "stderr",
     "output_type": "stream",
     "text": [
      "2020-06-12 13:49:43.099277  commRqData 주식분봉차트조회요청\n",
      "{'BASC_DT': '2020-06-12',\n",
      " 'EVENT': 'eventReceiveTrData',\n",
      " 'REQUEST_NAME': '주식분봉차트조회요청',\n",
      " 'TIME': '2020-06-12 13:49:43.471251',\n",
      " 'TR_CODE': 'OPT10080'}\n"
     ]
    },
    {
     "name": "stdout",
     "output_type": "stream",
     "text": [
      "20191112133800\n"
     ]
    },
    {
     "name": "stderr",
     "output_type": "stream",
     "text": [
      "2020-06-12 13:49:43.888220  commRqData 주식분봉차트조회요청\n",
      "{'BASC_DT': '2020-06-12',\n",
      " 'EVENT': 'eventReceiveTrData',\n",
      " 'REQUEST_NAME': '주식분봉차트조회요청',\n",
      " 'TIME': '2020-06-12 13:49:44.241224',\n",
      " 'TR_CODE': 'OPT10080'}\n"
     ]
    },
    {
     "name": "stdout",
     "output_type": "stream",
     "text": [
      "20191108112200\n"
     ]
    },
    {
     "name": "stderr",
     "output_type": "stream",
     "text": [
      "2020-06-12 13:49:44.657081  commRqData 주식분봉차트조회요청\n",
      "{'BASC_DT': '2020-06-12',\n",
      " 'EVENT': 'eventReceiveTrData',\n",
      " 'REQUEST_NAME': '주식분봉차트조회요청',\n",
      " 'TIME': '2020-06-12 13:49:44.997169',\n",
      " 'TR_CODE': 'OPT10080'}\n"
     ]
    },
    {
     "name": "stdout",
     "output_type": "stream",
     "text": [
      "20191106090600\n"
     ]
    },
    {
     "name": "stderr",
     "output_type": "stream",
     "text": [
      "2020-06-12 13:49:45.414056  commRqData 주식분봉차트조회요청\n",
      "{'BASC_DT': '2020-06-12',\n",
      " 'EVENT': 'eventReceiveTrData',\n",
      " 'REQUEST_NAME': '주식분봉차트조회요청',\n",
      " 'TIME': '2020-06-12 13:49:45.756167',\n",
      " 'TR_CODE': 'OPT10080'}\n"
     ]
    },
    {
     "name": "stdout",
     "output_type": "stream",
     "text": [
      "20191101131200\n"
     ]
    },
    {
     "name": "stderr",
     "output_type": "stream",
     "text": [
      "2020-06-12 13:49:46.172047  commRqData 주식분봉차트조회요청\n",
      "{'BASC_DT': '2020-06-12',\n",
      " 'EVENT': 'eventReceiveTrData',\n",
      " 'REQUEST_NAME': '주식분봉차트조회요청',\n",
      " 'TIME': '2020-06-12 13:49:46.516140',\n",
      " 'TR_CODE': 'OPT10080'}\n"
     ]
    },
    {
     "name": "stdout",
     "output_type": "stream",
     "text": [
      "20191030105600\n"
     ]
    },
    {
     "name": "stderr",
     "output_type": "stream",
     "text": [
      "2020-06-12 13:49:46.932081  commRqData 주식분봉차트조회요청\n",
      "{'BASC_DT': '2020-06-12',\n",
      " 'EVENT': 'eventReceiveTrData',\n",
      " 'REQUEST_NAME': '주식분봉차트조회요청',\n",
      " 'TIME': '2020-06-12 13:49:47.281149',\n",
      " 'TR_CODE': 'OPT10080'}\n"
     ]
    },
    {
     "name": "stdout",
     "output_type": "stream",
     "text": [
      "20191025150200\n"
     ]
    },
    {
     "name": "stderr",
     "output_type": "stream",
     "text": [
      "2020-06-12 13:49:47.698203  commRqData 주식분봉차트조회요청\n",
      "{'BASC_DT': '2020-06-12',\n",
      " 'EVENT': 'eventReceiveTrData',\n",
      " 'REQUEST_NAME': '주식분봉차트조회요청',\n",
      " 'TIME': '2020-06-12 13:49:48.044132',\n",
      " 'TR_CODE': 'OPT10080'}\n"
     ]
    },
    {
     "name": "stdout",
     "output_type": "stream",
     "text": [
      "20191023124600\n"
     ]
    },
    {
     "name": "stderr",
     "output_type": "stream",
     "text": [
      "2020-06-12 13:49:48.460019  commRqData 주식분봉차트조회요청\n",
      "{'BASC_DT': '2020-06-12',\n",
      " 'EVENT': 'eventReceiveTrData',\n",
      " 'REQUEST_NAME': '주식분봉차트조회요청',\n",
      " 'TIME': '2020-06-12 13:49:48.779196',\n",
      " 'TR_CODE': 'OPT10080'}\n"
     ]
    },
    {
     "name": "stdout",
     "output_type": "stream",
     "text": [
      "20191021103000\n"
     ]
    },
    {
     "name": "stderr",
     "output_type": "stream",
     "text": [
      "2020-06-12 13:49:49.194230  commRqData 주식분봉차트조회요청\n",
      "{'BASC_DT': '2020-06-12',\n",
      " 'EVENT': 'eventReceiveTrData',\n",
      " 'REQUEST_NAME': '주식분봉차트조회요청',\n",
      " 'TIME': '2020-06-12 13:49:49.517387',\n",
      " 'TR_CODE': 'OPT10080'}\n"
     ]
    },
    {
     "name": "stdout",
     "output_type": "stream",
     "text": [
      "20191016143600\n"
     ]
    },
    {
     "name": "stderr",
     "output_type": "stream",
     "text": [
      "2020-06-12 13:49:49.933296  commRqData 주식분봉차트조회요청\n",
      "{'BASC_DT': '2020-06-12',\n",
      " 'EVENT': 'eventReceiveTrData',\n",
      " 'REQUEST_NAME': '주식분봉차트조회요청',\n",
      " 'TIME': '2020-06-12 13:49:50.262395',\n",
      " 'TR_CODE': 'OPT10080'}\n"
     ]
    },
    {
     "name": "stdout",
     "output_type": "stream",
     "text": [
      "20191014122000\n"
     ]
    },
    {
     "name": "stderr",
     "output_type": "stream",
     "text": [
      "2020-06-12 13:49:50.678286  commRqData 주식분봉차트조회요청\n",
      "{'BASC_DT': '2020-06-12',\n",
      " 'EVENT': 'eventReceiveTrData',\n",
      " 'REQUEST_NAME': '주식분봉차트조회요청',\n",
      " 'TIME': '2020-06-12 13:49:51.007377',\n",
      " 'TR_CODE': 'OPT10080'}\n"
     ]
    },
    {
     "name": "stdout",
     "output_type": "stream",
     "text": [
      "20191010100400\n"
     ]
    },
    {
     "name": "stderr",
     "output_type": "stream",
     "text": [
      "2020-06-12 13:49:51.423372  commRqData 주식분봉차트조회요청\n",
      "{'BASC_DT': '2020-06-12',\n",
      " 'EVENT': 'eventReceiveTrData',\n",
      " 'REQUEST_NAME': '주식분봉차트조회요청',\n",
      " 'TIME': '2020-06-12 13:49:51.756406',\n",
      " 'TR_CODE': 'OPT10080'}\n"
     ]
    },
    {
     "name": "stdout",
     "output_type": "stream",
     "text": [
      "20191004141000\n"
     ]
    },
    {
     "name": "stderr",
     "output_type": "stream",
     "text": [
      "2020-06-12 13:49:52.172262  commRqData 주식분봉차트조회요청\n",
      "{'BASC_DT': '2020-06-12',\n",
      " 'EVENT': 'eventReceiveTrData',\n",
      " 'REQUEST_NAME': '주식분봉차트조회요청',\n",
      " 'TIME': '2020-06-12 13:49:52.502380',\n",
      " 'TR_CODE': 'OPT10080'}\n"
     ]
    },
    {
     "name": "stdout",
     "output_type": "stream",
     "text": [
      "20191001115400\n"
     ]
    },
    {
     "name": "stderr",
     "output_type": "stream",
     "text": [
      "2020-06-12 13:49:52.918268  commRqData 주식분봉차트조회요청\n",
      "{'BASC_DT': '2020-06-12',\n",
      " 'EVENT': 'eventReceiveTrData',\n",
      " 'REQUEST_NAME': '주식분봉차트조회요청',\n",
      " 'TIME': '2020-06-12 13:49:53.278307',\n",
      " 'TR_CODE': 'OPT10080'}\n"
     ]
    },
    {
     "name": "stdout",
     "output_type": "stream",
     "text": [
      "20190927093800\n"
     ]
    },
    {
     "name": "stderr",
     "output_type": "stream",
     "text": [
      "2020-06-12 13:49:53.693200  commRqData 주식분봉차트조회요청\n",
      "{'BASC_DT': '2020-06-12',\n",
      " 'EVENT': 'eventReceiveTrData',\n",
      " 'REQUEST_NAME': '주식분봉차트조회요청',\n",
      " 'TIME': '2020-06-12 13:49:54.033303',\n",
      " 'TR_CODE': 'OPT10080'}\n"
     ]
    },
    {
     "name": "stdout",
     "output_type": "stream",
     "text": [
      "20190924134400\n"
     ]
    },
    {
     "name": "stderr",
     "output_type": "stream",
     "text": [
      "2020-06-12 13:49:54.450172  commRqData 주식분봉차트조회요청\n",
      "{'BASC_DT': '2020-06-12',\n",
      " 'EVENT': 'eventReceiveTrData',\n",
      " 'REQUEST_NAME': '주식분봉차트조회요청',\n",
      " 'TIME': '2020-06-12 13:49:54.796246',\n",
      " 'TR_CODE': 'OPT10080'}\n"
     ]
    },
    {
     "name": "stdout",
     "output_type": "stream",
     "text": [
      "20190920112800\n"
     ]
    },
    {
     "name": "stderr",
     "output_type": "stream",
     "text": [
      "2020-06-12 13:49:55.216124  commRqData 주식분봉차트조회요청\n",
      "{'BASC_DT': '2020-06-12',\n",
      " 'EVENT': 'eventReceiveTrData',\n",
      " 'REQUEST_NAME': '주식분봉차트조회요청',\n",
      " 'TIME': '2020-06-12 13:49:55.563194',\n",
      " 'TR_CODE': 'OPT10080'}\n"
     ]
    },
    {
     "name": "stdout",
     "output_type": "stream",
     "text": [
      "20190918091200\n"
     ]
    },
    {
     "name": "stderr",
     "output_type": "stream",
     "text": [
      "2020-06-12 13:49:55.982074  commRqData 주식분봉차트조회요청\n",
      "{'BASC_DT': '2020-06-12',\n",
      " 'EVENT': 'eventReceiveTrData',\n",
      " 'REQUEST_NAME': '주식분봉차트조회요청',\n",
      " 'TIME': '2020-06-12 13:49:56.338153',\n",
      " 'TR_CODE': 'OPT10080'}\n"
     ]
    },
    {
     "name": "stdout",
     "output_type": "stream",
     "text": [
      "20190911131800\n"
     ]
    },
    {
     "name": "stderr",
     "output_type": "stream",
     "text": [
      "2020-06-12 13:49:56.757003  commRqData 주식분봉차트조회요청\n",
      "{'BASC_DT': '2020-06-12',\n",
      " 'EVENT': 'eventReceiveTrData',\n",
      " 'REQUEST_NAME': '주식분봉차트조회요청',\n",
      " 'TIME': '2020-06-12 13:49:57.116067',\n",
      " 'TR_CODE': 'OPT10080'}\n"
     ]
    },
    {
     "name": "stdout",
     "output_type": "stream",
     "text": [
      "20190909110200\n"
     ]
    },
    {
     "name": "stderr",
     "output_type": "stream",
     "text": [
      "2020-06-12 13:49:57.531930  commRqData 주식분봉차트조회요청\n",
      "{'BASC_DT': '2020-06-12',\n",
      " 'EVENT': 'eventReceiveTrData',\n",
      " 'REQUEST_NAME': '주식분봉차트조회요청',\n",
      " 'TIME': '2020-06-12 13:49:57.881024',\n",
      " 'TR_CODE': 'OPT10080'}\n"
     ]
    },
    {
     "name": "stdout",
     "output_type": "stream",
     "text": [
      "20190904150800\n"
     ]
    },
    {
     "name": "stderr",
     "output_type": "stream",
     "text": [
      "2020-06-12 13:49:58.296914  commRqData 주식분봉차트조회요청\n",
      "{'BASC_DT': '2020-06-12',\n",
      " 'EVENT': 'eventReceiveTrData',\n",
      " 'REQUEST_NAME': '주식분봉차트조회요청',\n",
      " 'TIME': '2020-06-12 13:49:58.637029',\n",
      " 'TR_CODE': 'OPT10080'}\n"
     ]
    },
    {
     "name": "stdout",
     "output_type": "stream",
     "text": [
      "20190902125200\n"
     ]
    },
    {
     "name": "stderr",
     "output_type": "stream",
     "text": [
      "2020-06-12 13:49:59.051893  commRqData 주식분봉차트조회요청\n",
      "{'BASC_DT': '2020-06-12',\n",
      " 'EVENT': 'eventReceiveTrData',\n",
      " 'REQUEST_NAME': '주식분봉차트조회요청',\n",
      " 'TIME': '2020-06-12 13:49:59.416948',\n",
      " 'TR_CODE': 'OPT10080'}\n"
     ]
    },
    {
     "name": "stdout",
     "output_type": "stream",
     "text": [
      "20190829103600\n"
     ]
    },
    {
     "name": "stderr",
     "output_type": "stream",
     "text": [
      "2020-06-12 13:49:59.833804  commRqData 주식분봉차트조회요청\n",
      "{'BASC_DT': '2020-06-12',\n",
      " 'EVENT': 'eventReceiveTrData',\n",
      " 'REQUEST_NAME': '주식분봉차트조회요청',\n",
      " 'TIME': '2020-06-12 13:50:00.204811',\n",
      " 'TR_CODE': 'OPT10080'}\n"
     ]
    },
    {
     "name": "stdout",
     "output_type": "stream",
     "text": [
      "20190826144200\n"
     ]
    },
    {
     "name": "stderr",
     "output_type": "stream",
     "text": [
      "2020-06-12 13:50:00.618703  commRqData 주식분봉차트조회요청\n",
      "{'BASC_DT': '2020-06-12',\n",
      " 'EVENT': 'eventReceiveTrData',\n",
      " 'REQUEST_NAME': '주식분봉차트조회요청',\n",
      " 'TIME': '2020-06-12 13:50:00.964804',\n",
      " 'TR_CODE': 'OPT10080'}\n"
     ]
    },
    {
     "name": "stdout",
     "output_type": "stream",
     "text": [
      "20190822122600\n"
     ]
    },
    {
     "name": "stderr",
     "output_type": "stream",
     "text": [
      "2020-06-12 13:50:01.380794  commRqData 주식분봉차트조회요청\n",
      "{'BASC_DT': '2020-06-12',\n",
      " 'EVENT': 'eventReceiveTrData',\n",
      " 'REQUEST_NAME': '주식분봉차트조회요청',\n",
      " 'TIME': '2020-06-12 13:50:01.728734',\n",
      " 'TR_CODE': 'OPT10080'}\n"
     ]
    },
    {
     "name": "stdout",
     "output_type": "stream",
     "text": [
      "20190820101000\n"
     ]
    },
    {
     "name": "stderr",
     "output_type": "stream",
     "text": [
      "2020-06-12 13:50:02.144677  commRqData 주식분봉차트조회요청\n",
      "{'BASC_DT': '2020-06-12',\n",
      " 'EVENT': 'eventReceiveTrData',\n",
      " 'REQUEST_NAME': '주식분봉차트조회요청',\n",
      " 'TIME': '2020-06-12 13:50:02.508675',\n",
      " 'TR_CODE': 'OPT10080'}\n"
     ]
    },
    {
     "name": "stdout",
     "output_type": "stream",
     "text": [
      "20190814141600\n"
     ]
    },
    {
     "name": "stderr",
     "output_type": "stream",
     "text": [
      "2020-06-12 13:50:02.926531  commRqData 주식분봉차트조회요청\n",
      "{'BASC_DT': '2020-06-12',\n",
      " 'EVENT': 'eventReceiveTrData',\n",
      " 'REQUEST_NAME': '주식분봉차트조회요청',\n",
      " 'TIME': '2020-06-12 13:50:03.286569',\n",
      " 'TR_CODE': 'OPT10080'}\n"
     ]
    },
    {
     "name": "stdout",
     "output_type": "stream",
     "text": [
      "20190812120000\n"
     ]
    },
    {
     "name": "stderr",
     "output_type": "stream",
     "text": [
      "2020-06-12 13:50:03.702603  commRqData 주식분봉차트조회요청\n",
      "{'BASC_DT': '2020-06-12',\n",
      " 'EVENT': 'eventReceiveTrData',\n",
      " 'REQUEST_NAME': '주식분봉차트조회요청',\n",
      " 'TIME': '2020-06-12 13:50:04.035596',\n",
      " 'TR_CODE': 'OPT10080'}\n"
     ]
    },
    {
     "name": "stdout",
     "output_type": "stream",
     "text": [
      "20190808094400\n"
     ]
    },
    {
     "name": "stderr",
     "output_type": "stream",
     "text": [
      "2020-06-12 13:50:04.451604  commRqData 주식분봉차트조회요청\n",
      "{'BASC_DT': '2020-06-12',\n",
      " 'EVENT': 'eventReceiveTrData',\n",
      " 'REQUEST_NAME': '주식분봉차트조회요청',\n",
      " 'TIME': '2020-06-12 13:50:04.787555',\n",
      " 'TR_CODE': 'OPT10080'}\n"
     ]
    },
    {
     "name": "stdout",
     "output_type": "stream",
     "text": [
      "20190805135000\n"
     ]
    },
    {
     "name": "stderr",
     "output_type": "stream",
     "text": [
      "2020-06-12 13:50:05.202445  commRqData 주식분봉차트조회요청\n",
      "{'BASC_DT': '2020-06-12',\n",
      " 'EVENT': 'eventReceiveTrData',\n",
      " 'REQUEST_NAME': '주식분봉차트조회요청',\n",
      " 'TIME': '2020-06-12 13:50:05.555501',\n",
      " 'TR_CODE': 'OPT10080'}\n"
     ]
    },
    {
     "name": "stdout",
     "output_type": "stream",
     "text": [
      "20190801113400\n"
     ]
    },
    {
     "name": "stderr",
     "output_type": "stream",
     "text": [
      "2020-06-12 13:50:05.971389  commRqData 주식분봉차트조회요청\n",
      "{'BASC_DT': '2020-06-12',\n",
      " 'EVENT': 'eventReceiveTrData',\n",
      " 'REQUEST_NAME': '주식분봉차트조회요청',\n",
      " 'TIME': '2020-06-12 13:50:06.304530',\n",
      " 'TR_CODE': 'OPT10080'}\n"
     ]
    },
    {
     "name": "stdout",
     "output_type": "stream",
     "text": [
      "20190730091800\n"
     ]
    },
    {
     "name": "stderr",
     "output_type": "stream",
     "text": [
      "2020-06-12 13:50:06.723377  commRqData 주식분봉차트조회요청\n",
      "{'BASC_DT': '2020-06-12',\n",
      " 'EVENT': 'eventReceiveTrData',\n",
      " 'REQUEST_NAME': '주식분봉차트조회요청',\n",
      " 'TIME': '2020-06-12 13:50:07.060475',\n",
      " 'TR_CODE': 'OPT10080'}\n"
     ]
    },
    {
     "name": "stdout",
     "output_type": "stream",
     "text": [
      "20190725132400\n"
     ]
    },
    {
     "name": "stderr",
     "output_type": "stream",
     "text": [
      "2020-06-12 13:50:07.477361  commRqData 주식분봉차트조회요청\n",
      "{'BASC_DT': '2020-06-12',\n",
      " 'EVENT': 'eventReceiveTrData',\n",
      " 'REQUEST_NAME': '주식분봉차트조회요청',\n",
      " 'TIME': '2020-06-12 13:50:07.839393',\n",
      " 'TR_CODE': 'OPT10080'}\n"
     ]
    },
    {
     "name": "stdout",
     "output_type": "stream",
     "text": [
      "20190723110800\n"
     ]
    },
    {
     "name": "stderr",
     "output_type": "stream",
     "text": [
      "2020-06-12 13:50:08.255280  commRqData 주식분봉차트조회요청\n",
      "{'BASC_DT': '2020-06-12',\n",
      " 'EVENT': 'eventReceiveTrData',\n",
      " 'REQUEST_NAME': '주식분봉차트조회요청',\n",
      " 'TIME': '2020-06-12 13:50:08.591382',\n",
      " 'TR_CODE': 'OPT10080'}\n"
     ]
    },
    {
     "name": "stdout",
     "output_type": "stream",
     "text": [
      "20190718151400\n"
     ]
    },
    {
     "name": "stderr",
     "output_type": "stream",
     "text": [
      "2020-06-12 13:50:09.006274  commRqData 주식분봉차트조회요청\n",
      "{'BASC_DT': '2020-06-12',\n",
      " 'EVENT': 'eventReceiveTrData',\n",
      " 'REQUEST_NAME': '주식분봉차트조회요청',\n",
      " 'TIME': '2020-06-12 13:50:09.348358',\n",
      " 'TR_CODE': 'OPT10080'}\n"
     ]
    },
    {
     "name": "stdout",
     "output_type": "stream",
     "text": [
      "20190716125800\n"
     ]
    },
    {
     "name": "stderr",
     "output_type": "stream",
     "text": [
      "2020-06-12 13:50:09.763247  commRqData 주식분봉차트조회요청\n",
      "{'BASC_DT': '2020-06-12',\n",
      " 'EVENT': 'eventReceiveTrData',\n",
      " 'REQUEST_NAME': '주식분봉차트조회요청',\n",
      " 'TIME': '2020-06-12 13:50:10.109322',\n",
      " 'TR_CODE': 'OPT10080'}\n"
     ]
    },
    {
     "name": "stdout",
     "output_type": "stream",
     "text": [
      "20190712104200\n"
     ]
    },
    {
     "name": "stderr",
     "output_type": "stream",
     "text": [
      "2020-06-12 13:50:10.525274  commRqData 주식분봉차트조회요청\n",
      "{'BASC_DT': '2020-06-12',\n",
      " 'EVENT': 'eventReceiveTrData',\n",
      " 'REQUEST_NAME': '주식분봉차트조회요청',\n",
      " 'TIME': '2020-06-12 13:50:10.850340',\n",
      " 'TR_CODE': 'OPT10080'}\n"
     ]
    },
    {
     "name": "stdout",
     "output_type": "stream",
     "text": [
      "20190709144800\n"
     ]
    },
    {
     "name": "stderr",
     "output_type": "stream",
     "text": [
      "2020-06-12 13:50:11.266230  commRqData 주식분봉차트조회요청\n",
      "{'BASC_DT': '2020-06-12',\n",
      " 'EVENT': 'eventReceiveTrData',\n",
      " 'REQUEST_NAME': '주식분봉차트조회요청',\n",
      " 'TIME': '2020-06-12 13:50:11.636238',\n",
      " 'TR_CODE': 'OPT10080'}\n"
     ]
    },
    {
     "name": "stdout",
     "output_type": "stream",
     "text": [
      "20190705123200\n"
     ]
    },
    {
     "name": "stderr",
     "output_type": "stream",
     "text": [
      "2020-06-12 13:50:12.052127  commRqData 주식분봉차트조회요청\n",
      "{'BASC_DT': '2020-06-12',\n",
      " 'EVENT': 'eventReceiveTrData',\n",
      " 'REQUEST_NAME': '주식분봉차트조회요청',\n",
      " 'TIME': '2020-06-12 13:50:12.401194',\n",
      " 'TR_CODE': 'OPT10080'}\n"
     ]
    },
    {
     "name": "stdout",
     "output_type": "stream",
     "text": [
      "20190703101600\n"
     ]
    },
    {
     "name": "stderr",
     "output_type": "stream",
     "text": [
      "2020-06-12 13:50:12.817083  commRqData 주식분봉차트조회요청\n",
      "{'BASC_DT': '2020-06-12',\n",
      " 'EVENT': 'eventReceiveTrData',\n",
      " 'REQUEST_NAME': '주식분봉차트조회요청',\n",
      " 'TIME': '2020-06-12 13:50:13.187091',\n",
      " 'TR_CODE': 'OPT10080'}\n"
     ]
    },
    {
     "name": "stdout",
     "output_type": "stream",
     "text": [
      "20190628142200\n"
     ]
    },
    {
     "name": "stderr",
     "output_type": "stream",
     "text": [
      "2020-06-12 13:50:13.604150  commRqData 주식분봉차트조회요청\n",
      "{'BASC_DT': '2020-06-12',\n",
      " 'EVENT': 'eventReceiveTrData',\n",
      " 'REQUEST_NAME': '주식분봉차트조회요청',\n",
      " 'TIME': '2020-06-12 13:50:13.938256',\n",
      " 'TR_CODE': 'OPT10080'}\n"
     ]
    },
    {
     "name": "stdout",
     "output_type": "stream",
     "text": [
      "20190626120600\n"
     ]
    },
    {
     "name": "stderr",
     "output_type": "stream",
     "text": [
      "2020-06-12 13:50:14.351152  commRqData 주식분봉차트조회요청\n",
      "{'BASC_DT': '2020-06-12',\n",
      " 'EVENT': 'eventReceiveTrData',\n",
      " 'REQUEST_NAME': '주식분봉차트조회요청',\n",
      " 'TIME': '2020-06-12 13:50:14.686258',\n",
      " 'TR_CODE': 'OPT10080'}\n"
     ]
    },
    {
     "name": "stdout",
     "output_type": "stream",
     "text": [
      "20190624095000\n"
     ]
    },
    {
     "name": "stderr",
     "output_type": "stream",
     "text": [
      "2020-06-12 13:50:15.102174  commRqData 주식분봉차트조회요청\n",
      "{'BASC_DT': '2020-06-12',\n",
      " 'EVENT': 'eventReceiveTrData',\n",
      " 'REQUEST_NAME': '주식분봉차트조회요청',\n",
      " 'TIME': '2020-06-12 13:50:15.450212',\n",
      " 'TR_CODE': 'OPT10080'}\n"
     ]
    },
    {
     "name": "stdout",
     "output_type": "stream",
     "text": [
      "20190619135600\n"
     ]
    },
    {
     "name": "stderr",
     "output_type": "stream",
     "text": [
      "2020-06-12 13:50:15.864107  commRqData 주식분봉차트조회요청\n",
      "{'BASC_DT': '2020-06-12',\n",
      " 'EVENT': 'eventReceiveTrData',\n",
      " 'REQUEST_NAME': '주식분봉차트조회요청',\n",
      " 'TIME': '2020-06-12 13:50:16.209181',\n",
      " 'TR_CODE': 'OPT10080'}\n"
     ]
    },
    {
     "name": "stdout",
     "output_type": "stream",
     "text": [
      "20190617114000\n"
     ]
    },
    {
     "name": "stderr",
     "output_type": "stream",
     "text": [
      "2020-06-12 13:50:16.625173  commRqData 주식분봉차트조회요청\n",
      "{'BASC_DT': '2020-06-12',\n",
      " 'EVENT': 'eventReceiveTrData',\n",
      " 'REQUEST_NAME': '주식분봉차트조회요청',\n",
      " 'TIME': '2020-06-12 13:50:16.959177',\n",
      " 'TR_CODE': 'OPT10080'}\n"
     ]
    },
    {
     "name": "stdout",
     "output_type": "stream",
     "text": [
      "20190613092400\n"
     ]
    },
    {
     "name": "stderr",
     "output_type": "stream",
     "text": [
      "2020-06-12 13:50:17.377086  commRqData 주식분봉차트조회요청\n",
      "{'BASC_DT': '2020-06-12',\n",
      " 'EVENT': 'eventReceiveTrData',\n",
      " 'REQUEST_NAME': '주식분봉차트조회요청',\n",
      " 'TIME': '2020-06-12 13:50:17.711197',\n",
      " 'TR_CODE': 'OPT10080'}\n"
     ]
    },
    {
     "name": "stdout",
     "output_type": "stream",
     "text": [
      "20190610133000\n"
     ]
    },
    {
     "name": "stderr",
     "output_type": "stream",
     "text": [
      "2020-06-12 13:50:18.128052  commRqData 주식분봉차트조회요청\n",
      "{'BASC_DT': '2020-06-12',\n",
      " 'EVENT': 'eventReceiveTrData',\n",
      " 'REQUEST_NAME': '주식분봉차트조회요청',\n",
      " 'TIME': '2020-06-12 13:50:18.447198',\n",
      " 'TR_CODE': 'OPT10080'}\n"
     ]
    },
    {
     "name": "stdout",
     "output_type": "stream",
     "text": [
      "20190605111400\n"
     ]
    },
    {
     "name": "stderr",
     "output_type": "stream",
     "text": [
      "2020-06-12 13:50:18.863086  commRqData 주식분봉차트조회요청\n",
      "{'BASC_DT': '2020-06-12',\n",
      " 'EVENT': 'eventReceiveTrData',\n",
      " 'REQUEST_NAME': '주식분봉차트조회요청',\n",
      " 'TIME': '2020-06-12 13:50:19.187244',\n",
      " 'TR_CODE': 'OPT10080'}\n"
     ]
    },
    {
     "name": "stdout",
     "output_type": "stream",
     "text": [
      "005930  마지막 i= 108\n",
      "19 018260 삼성에스디에스\n"
     ]
    },
    {
     "name": "stderr",
     "output_type": "stream",
     "text": [
      "2020-06-12 13:50:22.278093  commRqData 주식분봉차트조회요청\n",
      "{'BASC_DT': '2020-06-12',\n",
      " 'EVENT': 'eventReceiveTrData',\n",
      " 'REQUEST_NAME': '주식분봉차트조회요청',\n",
      " 'TIME': '2020-06-12 13:50:22.625184',\n",
      " 'TR_CODE': 'OPT10080'}\n"
     ]
    },
    {
     "name": "stdout",
     "output_type": "stream",
     "text": [
      "None\n"
     ]
    },
    {
     "name": "stderr",
     "output_type": "stream",
     "text": [
      "2020-06-12 13:50:23.041067  commRqData 주식분봉차트조회요청\n",
      "{'BASC_DT': '2020-06-12',\n",
      " 'EVENT': 'eventReceiveTrData',\n",
      " 'REQUEST_NAME': '주식분봉차트조회요청',\n",
      " 'TIME': '2020-06-12 13:50:23.433991',\n",
      " 'TR_CODE': 'OPT10080'}\n"
     ]
    },
    {
     "name": "stdout",
     "output_type": "stream",
     "text": [
      "20200610113500\n"
     ]
    },
    {
     "name": "stderr",
     "output_type": "stream",
     "text": [
      "2020-06-12 13:50:23.849909  commRqData 주식분봉차트조회요청\n",
      "{'BASC_DT': '2020-06-12',\n",
      " 'EVENT': 'eventReceiveTrData',\n",
      " 'REQUEST_NAME': '주식분봉차트조회요청',\n",
      " 'TIME': '2020-06-12 13:50:24.222907',\n",
      " 'TR_CODE': 'OPT10080'}\n"
     ]
    },
    {
     "name": "stdout",
     "output_type": "stream",
     "text": [
      "20200608091900\n"
     ]
    },
    {
     "name": "stderr",
     "output_type": "stream",
     "text": [
      "2020-06-12 13:50:24.639797  commRqData 주식분봉차트조회요청\n",
      "{'BASC_DT': '2020-06-12',\n",
      " 'EVENT': 'eventReceiveTrData',\n",
      " 'REQUEST_NAME': '주식분봉차트조회요청',\n",
      " 'TIME': '2020-06-12 13:50:25.271078',\n",
      " 'TR_CODE': 'OPT10080'}\n"
     ]
    },
    {
     "name": "stdout",
     "output_type": "stream",
     "text": [
      "20200603132500\n"
     ]
    },
    {
     "name": "stderr",
     "output_type": "stream",
     "text": [
      "2020-06-12 13:50:25.686966  commRqData 주식분봉차트조회요청\n",
      "{'BASC_DT': '2020-06-12',\n",
      " 'EVENT': 'eventReceiveTrData',\n",
      " 'REQUEST_NAME': '주식분봉차트조회요청',\n",
      " 'TIME': '2020-06-12 13:50:26.079915',\n",
      " 'TR_CODE': 'OPT10080'}\n"
     ]
    },
    {
     "name": "stdout",
     "output_type": "stream",
     "text": [
      "20200601110900\n"
     ]
    },
    {
     "name": "stderr",
     "output_type": "stream",
     "text": [
      "2020-06-12 13:50:26.496799  commRqData 주식분봉차트조회요청\n",
      "{'BASC_DT': '2020-06-12',\n",
      " 'EVENT': 'eventReceiveTrData',\n",
      " 'REQUEST_NAME': '주식분봉차트조회요청',\n",
      " 'TIME': '2020-06-12 13:50:26.834926',\n",
      " 'TR_CODE': 'OPT10080'}\n"
     ]
    },
    {
     "name": "stdout",
     "output_type": "stream",
     "text": [
      "20200527151500\n"
     ]
    },
    {
     "name": "stderr",
     "output_type": "stream",
     "text": [
      "2020-06-12 13:50:27.253811  commRqData 주식분봉차트조회요청\n",
      "{'BASC_DT': '2020-06-12',\n",
      " 'EVENT': 'eventReceiveTrData',\n",
      " 'REQUEST_NAME': '주식분봉차트조회요청',\n",
      " 'TIME': '2020-06-12 13:50:27.726510',\n",
      " 'TR_CODE': 'OPT10080'}\n"
     ]
    },
    {
     "name": "stdout",
     "output_type": "stream",
     "text": [
      "20200525125900\n"
     ]
    },
    {
     "name": "stderr",
     "output_type": "stream",
     "text": [
      "2020-06-12 13:50:28.142402  commRqData 주식분봉차트조회요청\n",
      "{'BASC_DT': '2020-06-12',\n",
      " 'EVENT': 'eventReceiveTrData',\n",
      " 'REQUEST_NAME': '주식분봉차트조회요청',\n",
      " 'TIME': '2020-06-12 13:50:28.522406',\n",
      " 'TR_CODE': 'OPT10080'}\n"
     ]
    },
    {
     "name": "stdout",
     "output_type": "stream",
     "text": [
      "20200521104300\n"
     ]
    },
    {
     "name": "stderr",
     "output_type": "stream",
     "text": [
      "2020-06-12 13:50:28.938269  commRqData 주식분봉차트조회요청\n",
      "{'BASC_DT': '2020-06-12',\n",
      " 'EVENT': 'eventReceiveTrData',\n",
      " 'REQUEST_NAME': '주식분봉차트조회요청',\n",
      " 'TIME': '2020-06-12 13:50:29.315261',\n",
      " 'TR_CODE': 'OPT10080'}\n"
     ]
    },
    {
     "name": "stdout",
     "output_type": "stream",
     "text": [
      "20200518144900\n"
     ]
    },
    {
     "name": "stderr",
     "output_type": "stream",
     "text": [
      "2020-06-12 13:50:29.730154  commRqData 주식분봉차트조회요청\n",
      "{'BASC_DT': '2020-06-12',\n",
      " 'EVENT': 'eventReceiveTrData',\n",
      " 'REQUEST_NAME': '주식분봉차트조회요청',\n",
      " 'TIME': '2020-06-12 13:50:30.087213',\n",
      " 'TR_CODE': 'OPT10080'}\n"
     ]
    },
    {
     "name": "stdout",
     "output_type": "stream",
     "text": [
      "20200514123300\n"
     ]
    },
    {
     "name": "stderr",
     "output_type": "stream",
     "text": [
      "2020-06-12 13:50:30.503120  commRqData 주식분봉차트조회요청\n",
      "{'BASC_DT': '2020-06-12',\n",
      " 'EVENT': 'eventReceiveTrData',\n",
      " 'REQUEST_NAME': '주식분봉차트조회요청',\n",
      " 'TIME': '2020-06-12 13:50:30.864120',\n",
      " 'TR_CODE': 'OPT10080'}\n"
     ]
    },
    {
     "name": "stdout",
     "output_type": "stream",
     "text": [
      "20200512101700\n"
     ]
    },
    {
     "name": "stderr",
     "output_type": "stream",
     "text": [
      "2020-06-12 13:50:31.280024  commRqData 주식분봉차트조회요청\n",
      "{'BASC_DT': '2020-06-12',\n",
      " 'EVENT': 'eventReceiveTrData',\n",
      " 'REQUEST_NAME': '주식분봉차트조회요청',\n",
      " 'TIME': '2020-06-12 13:50:31.618104',\n",
      " 'TR_CODE': 'OPT10080'}\n"
     ]
    },
    {
     "name": "stdout",
     "output_type": "stream",
     "text": [
      "20200507142300\n"
     ]
    },
    {
     "name": "stderr",
     "output_type": "stream",
     "text": [
      "2020-06-12 13:50:32.033990  commRqData 주식분봉차트조회요청\n",
      "{'BASC_DT': '2020-06-12',\n",
      " 'EVENT': 'eventReceiveTrData',\n",
      " 'REQUEST_NAME': '주식분봉차트조회요청',\n",
      " 'TIME': '2020-06-12 13:50:32.393030',\n",
      " 'TR_CODE': 'OPT10080'}\n"
     ]
    },
    {
     "name": "stdout",
     "output_type": "stream",
     "text": [
      "20200504120700\n"
     ]
    },
    {
     "name": "stderr",
     "output_type": "stream",
     "text": [
      "2020-06-12 13:50:32.810921  commRqData 주식분봉차트조회요청\n",
      "{'BASC_DT': '2020-06-12',\n",
      " 'EVENT': 'eventReceiveTrData',\n",
      " 'REQUEST_NAME': '주식분봉차트조회요청',\n",
      " 'TIME': '2020-06-12 13:50:33.214832',\n",
      " 'TR_CODE': 'OPT10080'}\n"
     ]
    },
    {
     "name": "stdout",
     "output_type": "stream",
     "text": [
      "20200428095100\n"
     ]
    },
    {
     "name": "stderr",
     "output_type": "stream",
     "text": [
      "2020-06-12 13:50:33.630723  commRqData 주식분봉차트조회요청\n",
      "{'BASC_DT': '2020-06-12',\n",
      " 'EVENT': 'eventReceiveTrData',\n",
      " 'REQUEST_NAME': '주식분봉차트조회요청',\n",
      " 'TIME': '2020-06-12 13:50:33.989791',\n",
      " 'TR_CODE': 'OPT10080'}\n"
     ]
    },
    {
     "name": "stdout",
     "output_type": "stream",
     "text": [
      "20200423135700\n"
     ]
    },
    {
     "name": "stderr",
     "output_type": "stream",
     "text": [
      "2020-06-12 13:50:34.405648  commRqData 주식분봉차트조회요청\n",
      "{'BASC_DT': '2020-06-12',\n",
      " 'EVENT': 'eventReceiveTrData',\n",
      " 'REQUEST_NAME': '주식분봉차트조회요청',\n",
      " 'TIME': '2020-06-12 13:50:34.766683',\n",
      " 'TR_CODE': 'OPT10080'}\n"
     ]
    },
    {
     "name": "stdout",
     "output_type": "stream",
     "text": [
      "20200421114100\n"
     ]
    },
    {
     "name": "stderr",
     "output_type": "stream",
     "text": [
      "2020-06-12 13:50:35.182603  commRqData 주식분봉차트조회요청\n",
      "{'BASC_DT': '2020-06-12',\n",
      " 'EVENT': 'eventReceiveTrData',\n",
      " 'REQUEST_NAME': '주식분봉차트조회요청',\n",
      " 'TIME': '2020-06-12 13:50:35.559588',\n",
      " 'TR_CODE': 'OPT10080'}\n"
     ]
    },
    {
     "name": "stdout",
     "output_type": "stream",
     "text": [
      "20200417092500\n"
     ]
    },
    {
     "name": "stderr",
     "output_type": "stream",
     "text": [
      "2020-06-12 13:50:35.976447  commRqData 주식분봉차트조회요청\n",
      "{'BASC_DT': '2020-06-12',\n",
      " 'EVENT': 'eventReceiveTrData',\n",
      " 'REQUEST_NAME': '주식분봉차트조회요청',\n",
      " 'TIME': '2020-06-12 13:50:36.382388',\n",
      " 'TR_CODE': 'OPT10080'}\n"
     ]
    },
    {
     "name": "stdout",
     "output_type": "stream",
     "text": [
      "20200413133100\n"
     ]
    },
    {
     "name": "stderr",
     "output_type": "stream",
     "text": [
      "2020-06-12 13:50:36.799249  commRqData 주식분봉차트조회요청\n",
      "{'BASC_DT': '2020-06-12',\n",
      " 'EVENT': 'eventReceiveTrData',\n",
      " 'REQUEST_NAME': '주식분봉차트조회요청',\n",
      " 'TIME': '2020-06-12 13:50:37.209151',\n",
      " 'TR_CODE': 'OPT10080'}\n"
     ]
    },
    {
     "name": "stdout",
     "output_type": "stream",
     "text": [
      "20200409111500\n"
     ]
    },
    {
     "name": "stderr",
     "output_type": "stream",
     "text": [
      "2020-06-12 13:50:37.625070  commRqData 주식분봉차트조회요청\n",
      "{'BASC_DT': '2020-06-12',\n",
      " 'EVENT': 'eventReceiveTrData',\n",
      " 'REQUEST_NAME': '주식분봉차트조회요청',\n",
      " 'TIME': '2020-06-12 13:50:37.948174',\n",
      " 'TR_CODE': 'OPT10080'}\n"
     ]
    },
    {
     "name": "stdout",
     "output_type": "stream",
     "text": [
      "20200406153500\n"
     ]
    },
    {
     "name": "stderr",
     "output_type": "stream",
     "text": [
      "2020-06-12 13:50:38.363065  commRqData 주식분봉차트조회요청\n",
      "{'BASC_DT': '2020-06-12',\n",
      " 'EVENT': 'eventReceiveTrData',\n",
      " 'REQUEST_NAME': '주식분봉차트조회요청',\n",
      " 'TIME': '2020-06-12 13:50:38.707146',\n",
      " 'TR_CODE': 'OPT10080'}\n"
     ]
    },
    {
     "name": "stdout",
     "output_type": "stream",
     "text": [
      "20200402130500\n"
     ]
    },
    {
     "name": "stderr",
     "output_type": "stream",
     "text": [
      "2020-06-12 13:50:39.123033  commRqData 주식분봉차트조회요청\n",
      "{'BASC_DT': '2020-06-12',\n",
      " 'EVENT': 'eventReceiveTrData',\n",
      " 'REQUEST_NAME': '주식분봉차트조회요청',\n",
      " 'TIME': '2020-06-12 13:50:39.464121',\n",
      " 'TR_CODE': 'OPT10080'}\n"
     ]
    },
    {
     "name": "stdout",
     "output_type": "stream",
     "text": [
      "20200331104900\n"
     ]
    },
    {
     "name": "stderr",
     "output_type": "stream",
     "text": [
      "2020-06-12 13:50:39.881041  commRqData 주식분봉차트조회요청\n",
      "{'BASC_DT': '2020-06-12',\n",
      " 'EVENT': 'eventReceiveTrData',\n",
      " 'REQUEST_NAME': '주식분봉차트조회요청',\n",
      " 'TIME': '2020-06-12 13:50:40.258994',\n",
      " 'TR_CODE': 'OPT10080'}\n"
     ]
    },
    {
     "name": "stdout",
     "output_type": "stream",
     "text": [
      "20200326145500\n"
     ]
    },
    {
     "name": "stderr",
     "output_type": "stream",
     "text": [
      "2020-06-12 13:50:40.675881  commRqData 주식분봉차트조회요청\n",
      "{'BASC_DT': '2020-06-12',\n",
      " 'EVENT': 'eventReceiveTrData',\n",
      " 'REQUEST_NAME': '주식분봉차트조회요청',\n",
      " 'TIME': '2020-06-12 13:50:41.005031',\n",
      " 'TR_CODE': 'OPT10080'}\n"
     ]
    },
    {
     "name": "stdout",
     "output_type": "stream",
     "text": [
      "20200324123900\n"
     ]
    },
    {
     "name": "stderr",
     "output_type": "stream",
     "text": [
      "2020-06-12 13:50:41.419890  commRqData 주식분봉차트조회요청\n",
      "{'BASC_DT': '2020-06-12',\n",
      " 'EVENT': 'eventReceiveTrData',\n",
      " 'REQUEST_NAME': '주식분봉차트조회요청',\n",
      " 'TIME': '2020-06-12 13:50:41.752003',\n",
      " 'TR_CODE': 'OPT10080'}\n"
     ]
    },
    {
     "name": "stdout",
     "output_type": "stream",
     "text": [
      "20200320102300\n"
     ]
    },
    {
     "name": "stderr",
     "output_type": "stream",
     "text": [
      "2020-06-12 13:50:42.169886  commRqData 주식분봉차트조회요청\n",
      "{'BASC_DT': '2020-06-12',\n",
      " 'EVENT': 'eventReceiveTrData',\n",
      " 'REQUEST_NAME': '주식분봉차트조회요청',\n",
      " 'TIME': '2020-06-12 13:50:42.510972',\n",
      " 'TR_CODE': 'OPT10080'}\n"
     ]
    },
    {
     "name": "stdout",
     "output_type": "stream",
     "text": [
      "20200317135900\n"
     ]
    },
    {
     "name": "stderr",
     "output_type": "stream",
     "text": [
      "2020-06-12 13:50:42.927857  commRqData 주식분봉차트조회요청\n",
      "{'BASC_DT': '2020-06-12',\n",
      " 'EVENT': 'eventReceiveTrData',\n",
      " 'REQUEST_NAME': '주식분봉차트조회요청',\n",
      " 'TIME': '2020-06-12 13:50:43.277923',\n",
      " 'TR_CODE': 'OPT10080'}\n"
     ]
    },
    {
     "name": "stdout",
     "output_type": "stream",
     "text": [
      "20200313114300\n"
     ]
    },
    {
     "name": "stderr",
     "output_type": "stream",
     "text": [
      "2020-06-12 13:50:43.692825  commRqData 주식분봉차트조회요청\n",
      "{'BASC_DT': '2020-06-12',\n",
      " 'EVENT': 'eventReceiveTrData',\n",
      " 'REQUEST_NAME': '주식분봉차트조회요청',\n",
      " 'TIME': '2020-06-12 13:50:44.046865',\n",
      " 'TR_CODE': 'OPT10080'}\n"
     ]
    },
    {
     "name": "stdout",
     "output_type": "stream",
     "text": [
      "20200310151800\n"
     ]
    },
    {
     "name": "stderr",
     "output_type": "stream",
     "text": [
      "2020-06-12 13:50:44.463756  commRqData 주식분봉차트조회요청\n",
      "{'BASC_DT': '2020-06-12',\n",
      " 'EVENT': 'eventReceiveTrData',\n",
      " 'REQUEST_NAME': '주식분봉차트조회요청',\n",
      " 'TIME': '2020-06-12 13:50:44.785888',\n",
      " 'TR_CODE': 'OPT10080'}\n"
     ]
    },
    {
     "name": "stdout",
     "output_type": "stream",
     "text": [
      "20200306130200\n"
     ]
    },
    {
     "name": "stderr",
     "output_type": "stream",
     "text": [
      "2020-06-12 13:50:45.200782  commRqData 주식분봉차트조회요청\n",
      "{'BASC_DT': '2020-06-12',\n",
      " 'EVENT': 'eventReceiveTrData',\n",
      " 'REQUEST_NAME': '주식분봉차트조회요청',\n",
      " 'TIME': '2020-06-12 13:50:45.618692',\n",
      " 'TR_CODE': 'OPT10080'}\n"
     ]
    },
    {
     "name": "stdout",
     "output_type": "stream",
     "text": [
      "20200304104600\n"
     ]
    },
    {
     "name": "stderr",
     "output_type": "stream",
     "text": [
      "2020-06-12 13:50:46.035548  commRqData 주식분봉차트조회요청\n",
      "{'BASC_DT': '2020-06-12',\n",
      " 'EVENT': 'eventReceiveTrData',\n",
      " 'REQUEST_NAME': '주식분봉차트조회요청',\n",
      " 'TIME': '2020-06-12 13:50:46.416565',\n",
      " 'TR_CODE': 'OPT10080'}\n"
     ]
    },
    {
     "name": "stdout",
     "output_type": "stream",
     "text": [
      "20200228145200\n"
     ]
    },
    {
     "name": "stderr",
     "output_type": "stream",
     "text": [
      "2020-06-12 13:50:46.834410  commRqData 주식분봉차트조회요청\n",
      "{'BASC_DT': '2020-06-12',\n",
      " 'EVENT': 'eventReceiveTrData',\n",
      " 'REQUEST_NAME': '주식분봉차트조회요청',\n",
      " 'TIME': '2020-06-12 13:50:47.238331',\n",
      " 'TR_CODE': 'OPT10080'}\n"
     ]
    },
    {
     "name": "stdout",
     "output_type": "stream",
     "text": [
      "20200226123600\n"
     ]
    },
    {
     "name": "stderr",
     "output_type": "stream",
     "text": [
      "2020-06-12 13:50:47.655247  commRqData 주식분봉차트조회요청\n",
      "{'BASC_DT': '2020-06-12',\n",
      " 'EVENT': 'eventReceiveTrData',\n",
      " 'REQUEST_NAME': '주식분봉차트조회요청',\n",
      " 'TIME': '2020-06-12 13:50:48.028217',\n",
      " 'TR_CODE': 'OPT10080'}\n"
     ]
    },
    {
     "name": "stdout",
     "output_type": "stream",
     "text": [
      "20200224102000\n"
     ]
    },
    {
     "name": "stderr",
     "output_type": "stream",
     "text": [
      "2020-06-12 13:50:48.444136  commRqData 주식분봉차트조회요청\n",
      "{'BASC_DT': '2020-06-12',\n",
      " 'EVENT': 'eventReceiveTrData',\n",
      " 'REQUEST_NAME': '주식분봉차트조회요청',\n",
      " 'TIME': '2020-06-12 13:50:48.784231',\n",
      " 'TR_CODE': 'OPT10080'}\n"
     ]
    },
    {
     "name": "stdout",
     "output_type": "stream",
     "text": [
      "20200219142300\n"
     ]
    },
    {
     "name": "stderr",
     "output_type": "stream",
     "text": [
      "2020-06-12 13:50:49.201092  commRqData 주식분봉차트조회요청\n",
      "{'BASC_DT': '2020-06-12',\n",
      " 'EVENT': 'eventReceiveTrData',\n",
      " 'REQUEST_NAME': '주식분봉차트조회요청',\n",
      " 'TIME': '2020-06-12 13:50:49.544165',\n",
      " 'TR_CODE': 'OPT10080'}\n"
     ]
    },
    {
     "name": "stdout",
     "output_type": "stream",
     "text": [
      "20200217120600\n"
     ]
    },
    {
     "name": "stderr",
     "output_type": "stream",
     "text": [
      "2020-06-12 13:50:49.962047  commRqData 주식분봉차트조회요청\n",
      "{'BASC_DT': '2020-06-12',\n",
      " 'EVENT': 'eventReceiveTrData',\n",
      " 'REQUEST_NAME': '주식분봉차트조회요청',\n",
      " 'TIME': '2020-06-12 13:50:50.353000',\n",
      " 'TR_CODE': 'OPT10080'}\n"
     ]
    },
    {
     "name": "stdout",
     "output_type": "stream",
     "text": [
      "20200213094500\n"
     ]
    },
    {
     "name": "stderr",
     "output_type": "stream",
     "text": [
      "2020-06-12 13:50:50.770902  commRqData 주식분봉차트조회요청\n",
      "{'BASC_DT': '2020-06-12',\n",
      " 'EVENT': 'eventReceiveTrData',\n",
      " 'REQUEST_NAME': '주식분봉차트조회요청',\n",
      " 'TIME': '2020-06-12 13:50:51.172809',\n",
      " 'TR_CODE': 'OPT10080'}\n"
     ]
    },
    {
     "name": "stdout",
     "output_type": "stream",
     "text": [
      "20200210135100\n"
     ]
    },
    {
     "name": "stderr",
     "output_type": "stream",
     "text": [
      "2020-06-12 13:50:51.589694  commRqData 주식분봉차트조회요청\n",
      "{'BASC_DT': '2020-06-12',\n",
      " 'EVENT': 'eventReceiveTrData',\n",
      " 'REQUEST_NAME': '주식분봉차트조회요청',\n",
      " 'TIME': '2020-06-12 13:50:51.963724',\n",
      " 'TR_CODE': 'OPT10080'}\n"
     ]
    },
    {
     "name": "stdout",
     "output_type": "stream",
     "text": [
      "20200206113300\n"
     ]
    },
    {
     "name": "stderr",
     "output_type": "stream",
     "text": [
      "2020-06-12 13:50:52.379581  commRqData 주식분봉차트조회요청\n",
      "{'BASC_DT': '2020-06-12',\n",
      " 'EVENT': 'eventReceiveTrData',\n",
      " 'REQUEST_NAME': '주식분봉차트조회요청',\n",
      " 'TIME': '2020-06-12 13:50:52.739618',\n",
      " 'TR_CODE': 'OPT10080'}\n"
     ]
    },
    {
     "name": "stdout",
     "output_type": "stream",
     "text": [
      "20200204091700\n"
     ]
    },
    {
     "name": "stderr",
     "output_type": "stream",
     "text": [
      "2020-06-12 13:50:53.155507  commRqData 주식분봉차트조회요청\n",
      "{'BASC_DT': '2020-06-12',\n",
      " 'EVENT': 'eventReceiveTrData',\n",
      " 'REQUEST_NAME': '주식분봉차트조회요청',\n",
      " 'TIME': '2020-06-12 13:50:53.556438',\n",
      " 'TR_CODE': 'OPT10080'}\n"
     ]
    },
    {
     "name": "stdout",
     "output_type": "stream",
     "text": [
      "20200130132300\n"
     ]
    },
    {
     "name": "stderr",
     "output_type": "stream",
     "text": [
      "2020-06-12 13:50:53.973320  commRqData 주식분봉차트조회요청\n",
      "{'BASC_DT': '2020-06-12',\n",
      " 'EVENT': 'eventReceiveTrData',\n",
      " 'REQUEST_NAME': '주식분봉차트조회요청',\n",
      " 'TIME': '2020-06-12 13:50:54.333382',\n",
      " 'TR_CODE': 'OPT10080'}\n"
     ]
    },
    {
     "name": "stdout",
     "output_type": "stream",
     "text": [
      "20200128110700\n"
     ]
    },
    {
     "name": "stderr",
     "output_type": "stream",
     "text": [
      "2020-06-12 13:50:54.750240  commRqData 주식분봉차트조회요청\n",
      "{'BASC_DT': '2020-06-12',\n",
      " 'EVENT': 'eventReceiveTrData',\n",
      " 'REQUEST_NAME': '주식분봉차트조회요청',\n",
      " 'TIME': '2020-06-12 13:50:55.122247',\n",
      " 'TR_CODE': 'OPT10080'}\n"
     ]
    },
    {
     "name": "stdout",
     "output_type": "stream",
     "text": [
      "20200121151100\n"
     ]
    },
    {
     "name": "stderr",
     "output_type": "stream",
     "text": [
      "2020-06-12 13:50:55.539168  commRqData 주식분봉차트조회요청\n",
      "{'BASC_DT': '2020-06-12',\n",
      " 'EVENT': 'eventReceiveTrData',\n",
      " 'REQUEST_NAME': '주식분봉차트조회요청',\n",
      " 'TIME': '2020-06-12 13:50:55.873264',\n",
      " 'TR_CODE': 'OPT10080'}\n"
     ]
    },
    {
     "name": "stdout",
     "output_type": "stream",
     "text": [
      "20200117125500\n"
     ]
    },
    {
     "name": "stderr",
     "output_type": "stream",
     "text": [
      "2020-06-12 13:50:56.290122  commRqData 주식분봉차트조회요청\n",
      "{'BASC_DT': '2020-06-12',\n",
      " 'EVENT': 'eventReceiveTrData',\n",
      " 'REQUEST_NAME': '주식분봉차트조회요청',\n",
      " 'TIME': '2020-06-12 13:50:56.645204',\n",
      " 'TR_CODE': 'OPT10080'}\n"
     ]
    },
    {
     "name": "stdout",
     "output_type": "stream",
     "text": [
      "20200115103900\n"
     ]
    },
    {
     "name": "stderr",
     "output_type": "stream",
     "text": [
      "2020-06-12 13:50:57.062059  commRqData 주식분봉차트조회요청\n",
      "{'BASC_DT': '2020-06-12',\n",
      " 'EVENT': 'eventReceiveTrData',\n",
      " 'REQUEST_NAME': '주식분봉차트조회요청',\n",
      " 'TIME': '2020-06-12 13:50:57.463017',\n",
      " 'TR_CODE': 'OPT10080'}\n"
     ]
    },
    {
     "name": "stdout",
     "output_type": "stream",
     "text": [
      "20200110144100\n"
     ]
    },
    {
     "name": "stderr",
     "output_type": "stream",
     "text": [
      "2020-06-12 13:50:57.878876  commRqData 주식분봉차트조회요청\n",
      "{'BASC_DT': '2020-06-12',\n",
      " 'EVENT': 'eventReceiveTrData',\n",
      " 'REQUEST_NAME': '주식분봉차트조회요청',\n",
      " 'TIME': '2020-06-12 13:50:58.237945',\n",
      " 'TR_CODE': 'OPT10080'}\n"
     ]
    },
    {
     "name": "stdout",
     "output_type": "stream",
     "text": [
      "20200108122300\n"
     ]
    },
    {
     "name": "stderr",
     "output_type": "stream",
     "text": [
      "2020-06-12 13:50:58.656922  commRqData 주식분봉차트조회요청\n",
      "{'BASC_DT': '2020-06-12',\n",
      " 'EVENT': 'eventReceiveTrData',\n",
      " 'REQUEST_NAME': '주식분봉차트조회요청',\n",
      " 'TIME': '2020-06-12 13:50:59.021846',\n",
      " 'TR_CODE': 'OPT10080'}\n"
     ]
    },
    {
     "name": "stdout",
     "output_type": "stream",
     "text": [
      "20200106095700\n"
     ]
    },
    {
     "name": "stderr",
     "output_type": "stream",
     "text": [
      "2020-06-12 13:50:59.435710  commRqData 주식분봉차트조회요청\n",
      "{'BASC_DT': '2020-06-12',\n",
      " 'EVENT': 'eventReceiveTrData',\n",
      " 'REQUEST_NAME': '주식분봉차트조회요청',\n",
      " 'TIME': '2020-06-12 13:50:59.773840',\n",
      " 'TR_CODE': 'OPT10080'}\n"
     ]
    },
    {
     "name": "stdout",
     "output_type": "stream",
     "text": [
      "20191230124400\n"
     ]
    },
    {
     "name": "stderr",
     "output_type": "stream",
     "text": [
      "2020-06-12 13:51:00.189695  commRqData 주식분봉차트조회요청\n",
      "{'BASC_DT': '2020-06-12',\n",
      " 'EVENT': 'eventReceiveTrData',\n",
      " 'REQUEST_NAME': '주식분봉차트조회요청',\n",
      " 'TIME': '2020-06-12 13:51:00.512830',\n",
      " 'TR_CODE': 'OPT10080'}\n"
     ]
    },
    {
     "name": "stdout",
     "output_type": "stream",
     "text": [
      "20191226102600\n"
     ]
    },
    {
     "name": "stderr",
     "output_type": "stream",
     "text": [
      "2020-06-12 13:51:00.926723  commRqData 주식분봉차트조회요청\n",
      "{'BASC_DT': '2020-06-12',\n",
      " 'EVENT': 'eventReceiveTrData',\n",
      " 'REQUEST_NAME': '주식분봉차트조회요청',\n",
      " 'TIME': '2020-06-12 13:51:01.255873',\n",
      " 'TR_CODE': 'OPT10080'}\n"
     ]
    },
    {
     "name": "stdout",
     "output_type": "stream",
     "text": [
      "20191220142400\n"
     ]
    },
    {
     "name": "stderr",
     "output_type": "stream",
     "text": [
      "2020-06-12 13:51:01.672728  commRqData 주식분봉차트조회요청\n",
      "{'BASC_DT': '2020-06-12',\n",
      " 'EVENT': 'eventReceiveTrData',\n",
      " 'REQUEST_NAME': '주식분봉차트조회요청',\n",
      " 'TIME': '2020-06-12 13:51:02.010856',\n",
      " 'TR_CODE': 'OPT10080'}\n"
     ]
    },
    {
     "name": "stdout",
     "output_type": "stream",
     "text": [
      "20191218120400\n"
     ]
    },
    {
     "name": "stderr",
     "output_type": "stream",
     "text": [
      "2020-06-12 13:51:02.426713  commRqData 주식분봉차트조회요청\n",
      "{'BASC_DT': '2020-06-12',\n",
      " 'EVENT': 'eventReceiveTrData',\n",
      " 'REQUEST_NAME': '주식분봉차트조회요청',\n",
      " 'TIME': '2020-06-12 13:51:02.730899',\n",
      " 'TR_CODE': 'OPT10080'}\n"
     ]
    },
    {
     "name": "stdout",
     "output_type": "stream",
     "text": [
      "20191216094400\n"
     ]
    },
    {
     "name": "stderr",
     "output_type": "stream",
     "text": [
      "2020-06-12 13:51:03.145789  commRqData 주식분봉차트조회요청\n",
      "{'BASC_DT': '2020-06-12',\n",
      " 'EVENT': 'eventReceiveTrData',\n",
      " 'REQUEST_NAME': '주식분봉차트조회요청',\n",
      " 'TIME': '2020-06-12 13:51:03.454963',\n",
      " 'TR_CODE': 'OPT10080'}\n"
     ]
    },
    {
     "name": "stdout",
     "output_type": "stream",
     "text": [
      "20191211134400\n"
     ]
    },
    {
     "name": "stderr",
     "output_type": "stream",
     "text": [
      "2020-06-12 13:51:03.869879  commRqData 주식분봉차트조회요청\n",
      "{'BASC_DT': '2020-06-12',\n",
      " 'EVENT': 'eventReceiveTrData',\n",
      " 'REQUEST_NAME': '주식분봉차트조회요청',\n",
      " 'TIME': '2020-06-12 13:51:04.183015',\n",
      " 'TR_CODE': 'OPT10080'}\n"
     ]
    },
    {
     "name": "stdout",
     "output_type": "stream",
     "text": [
      "20191209111500\n"
     ]
    },
    {
     "name": "stderr",
     "output_type": "stream",
     "text": [
      "2020-06-12 13:51:04.598904  commRqData 주식분봉차트조회요청\n",
      "{'BASC_DT': '2020-06-12',\n",
      " 'EVENT': 'eventReceiveTrData',\n",
      " 'REQUEST_NAME': '주식분봉차트조회요청',\n",
      " 'TIME': '2020-06-12 13:51:04.924034',\n",
      " 'TR_CODE': 'OPT10080'}\n"
     ]
    },
    {
     "name": "stdout",
     "output_type": "stream",
     "text": [
      "20191204145900\n"
     ]
    },
    {
     "name": "stderr",
     "output_type": "stream",
     "text": [
      "2020-06-12 13:51:05.340920  commRqData 주식분봉차트조회요청\n",
      "{'BASC_DT': '2020-06-12',\n",
      " 'EVENT': 'eventReceiveTrData',\n",
      " 'REQUEST_NAME': '주식분봉차트조회요청',\n",
      " 'TIME': '2020-06-12 13:51:05.705942',\n",
      " 'TR_CODE': 'OPT10080'}\n"
     ]
    },
    {
     "name": "stdout",
     "output_type": "stream",
     "text": [
      "20191202123100\n"
     ]
    },
    {
     "name": "stderr",
     "output_type": "stream",
     "text": [
      "2020-06-12 13:51:06.121859  commRqData 주식분봉차트조회요청\n",
      "{'BASC_DT': '2020-06-12',\n",
      " 'EVENT': 'eventReceiveTrData',\n",
      " 'REQUEST_NAME': '주식분봉차트조회요청',\n",
      " 'TIME': '2020-06-12 13:51:06.463946',\n",
      " 'TR_CODE': 'OPT10080'}\n"
     ]
    },
    {
     "name": "stdout",
     "output_type": "stream",
     "text": [
      "20191128095400\n"
     ]
    },
    {
     "name": "stderr",
     "output_type": "stream",
     "text": [
      "2020-06-12 13:51:06.877808  commRqData 주식분봉차트조회요청\n",
      "{'BASC_DT': '2020-06-12',\n",
      " 'EVENT': 'eventReceiveTrData',\n",
      " 'REQUEST_NAME': '주식분봉차트조회요청',\n",
      " 'TIME': '2020-06-12 13:51:07.190972',\n",
      " 'TR_CODE': 'OPT10080'}\n"
     ]
    },
    {
     "name": "stdout",
     "output_type": "stream",
     "text": [
      "20191125134600\n"
     ]
    },
    {
     "name": "stderr",
     "output_type": "stream",
     "text": [
      "2020-06-12 13:51:07.610858  commRqData 주식분봉차트조회요청\n",
      "{'BASC_DT': '2020-06-12',\n",
      " 'EVENT': 'eventReceiveTrData',\n",
      " 'REQUEST_NAME': '주식분봉차트조회요청',\n",
      " 'TIME': '2020-06-12 13:51:07.979861',\n",
      " 'TR_CODE': 'OPT10080'}\n"
     ]
    },
    {
     "name": "stdout",
     "output_type": "stream",
     "text": [
      "20191121112900\n"
     ]
    },
    {
     "name": "stderr",
     "output_type": "stream",
     "text": [
      "2020-06-12 13:51:08.397786  commRqData 주식분봉차트조회요청\n",
      "{'BASC_DT': '2020-06-12',\n",
      " 'EVENT': 'eventReceiveTrData',\n",
      " 'REQUEST_NAME': '주식분봉차트조회요청',\n",
      " 'TIME': '2020-06-12 13:51:08.933313',\n",
      " 'TR_CODE': 'OPT10080'}\n"
     ]
    },
    {
     "name": "stdout",
     "output_type": "stream",
     "text": [
      "20191119091200\n"
     ]
    },
    {
     "name": "stderr",
     "output_type": "stream",
     "text": [
      "2020-06-12 13:51:09.350198  commRqData 주식분봉차트조회요청\n",
      "{'BASC_DT': '2020-06-12',\n",
      " 'EVENT': 'eventReceiveTrData',\n",
      " 'REQUEST_NAME': '주식분봉차트조회요청',\n",
      " 'TIME': '2020-06-12 13:51:09.791017',\n",
      " 'TR_CODE': 'OPT10080'}\n"
     ]
    },
    {
     "name": "stdout",
     "output_type": "stream",
     "text": [
      "20191114141700\n"
     ]
    },
    {
     "name": "stderr",
     "output_type": "stream",
     "text": [
      "2020-06-12 13:51:10.208901  commRqData 주식분봉차트조회요청\n",
      "{'BASC_DT': '2020-06-12',\n",
      " 'EVENT': 'eventReceiveTrData',\n",
      " 'REQUEST_NAME': '주식분봉차트조회요청',\n",
      " 'TIME': '2020-06-12 13:51:10.612820',\n",
      " 'TR_CODE': 'OPT10080'}\n"
     ]
    },
    {
     "name": "stdout",
     "output_type": "stream",
     "text": [
      "20191112110000\n"
     ]
    },
    {
     "name": "stderr",
     "output_type": "stream",
     "text": [
      "2020-06-12 13:51:11.028707  commRqData 주식분봉차트조회요청\n",
      "{'BASC_DT': '2020-06-12',\n",
      " 'EVENT': 'eventReceiveTrData',\n",
      " 'REQUEST_NAME': '주식분봉차트조회요청',\n",
      " 'TIME': '2020-06-12 13:51:11.400712',\n",
      " 'TR_CODE': 'OPT10080'}\n"
     ]
    },
    {
     "name": "stdout",
     "output_type": "stream",
     "text": [
      "20191107150000\n"
     ]
    },
    {
     "name": "stderr",
     "output_type": "stream",
     "text": [
      "2020-06-12 13:51:11.816606  commRqData 주식분봉차트조회요청\n",
      "{'BASC_DT': '2020-06-12',\n",
      " 'EVENT': 'eventReceiveTrData',\n",
      " 'REQUEST_NAME': '주식분봉차트조회요청',\n",
      " 'TIME': '2020-06-12 13:51:12.130761',\n",
      " 'TR_CODE': 'OPT10080'}\n"
     ]
    },
    {
     "name": "stdout",
     "output_type": "stream",
     "text": [
      "20191105124400\n"
     ]
    },
    {
     "name": "stderr",
     "output_type": "stream",
     "text": [
      "2020-06-12 13:51:12.545687  commRqData 주식분봉차트조회요청\n",
      "{'BASC_DT': '2020-06-12',\n",
      " 'EVENT': 'eventReceiveTrData',\n",
      " 'REQUEST_NAME': '주식분봉차트조회요청',\n",
      " 'TIME': '2020-06-12 13:51:12.911673',\n",
      " 'TR_CODE': 'OPT10080'}\n"
     ]
    },
    {
     "name": "stdout",
     "output_type": "stream",
     "text": [
      "20191101102800\n"
     ]
    },
    {
     "name": "stderr",
     "output_type": "stream",
     "text": [
      "2020-06-12 13:51:13.325674  commRqData 주식분봉차트조회요청\n",
      "{'BASC_DT': '2020-06-12',\n",
      " 'EVENT': 'eventReceiveTrData',\n",
      " 'REQUEST_NAME': '주식분봉차트조회요청',\n",
      " 'TIME': '2020-06-12 13:51:13.704553',\n",
      " 'TR_CODE': 'OPT10080'}\n"
     ]
    },
    {
     "name": "stdout",
     "output_type": "stream",
     "text": [
      "20191029143000\n"
     ]
    },
    {
     "name": "stderr",
     "output_type": "stream",
     "text": [
      "2020-06-12 13:51:14.119442  commRqData 주식분봉차트조회요청\n",
      "{'BASC_DT': '2020-06-12',\n",
      " 'EVENT': 'eventReceiveTrData',\n",
      " 'REQUEST_NAME': '주식분봉차트조회요청',\n",
      " 'TIME': '2020-06-12 13:51:14.500453',\n",
      " 'TR_CODE': 'OPT10080'}\n"
     ]
    },
    {
     "name": "stdout",
     "output_type": "stream",
     "text": [
      "20191025121400\n"
     ]
    },
    {
     "name": "stderr",
     "output_type": "stream",
     "text": [
      "2020-06-12 13:51:14.917308  commRqData 주식분봉차트조회요청\n",
      "{'BASC_DT': '2020-06-12',\n",
      " 'EVENT': 'eventReceiveTrData',\n",
      " 'REQUEST_NAME': '주식분봉차트조회요청',\n",
      " 'TIME': '2020-06-12 13:51:15.308262',\n",
      " 'TR_CODE': 'OPT10080'}\n"
     ]
    },
    {
     "name": "stdout",
     "output_type": "stream",
     "text": [
      "20191023095800\n"
     ]
    },
    {
     "name": "stderr",
     "output_type": "stream",
     "text": [
      "2020-06-12 13:51:15.722158  commRqData 주식분봉차트조회요청\n",
      "{'BASC_DT': '2020-06-12',\n",
      " 'EVENT': 'eventReceiveTrData',\n",
      " 'REQUEST_NAME': '주식분봉차트조회요청',\n",
      " 'TIME': '2020-06-12 13:51:16.032327',\n",
      " 'TR_CODE': 'OPT10080'}\n"
     ]
    },
    {
     "name": "stdout",
     "output_type": "stream",
     "text": [
      "20191018135800\n"
     ]
    },
    {
     "name": "stderr",
     "output_type": "stream",
     "text": [
      "2020-06-12 13:51:16.449305  commRqData 주식분봉차트조회요청\n",
      "{'BASC_DT': '2020-06-12',\n",
      " 'EVENT': 'eventReceiveTrData',\n",
      " 'REQUEST_NAME': '주식분봉차트조회요청',\n",
      " 'TIME': '2020-06-12 13:51:16.794384',\n",
      " 'TR_CODE': 'OPT10080'}\n"
     ]
    },
    {
     "name": "stdout",
     "output_type": "stream",
     "text": [
      "20191016111700\n"
     ]
    },
    {
     "name": "stderr",
     "output_type": "stream",
     "text": [
      "2020-06-12 13:51:17.209262  commRqData 주식분봉차트조회요청\n",
      "{'BASC_DT': '2020-06-12',\n",
      " 'EVENT': 'eventReceiveTrData',\n",
      " 'REQUEST_NAME': '주식분봉차트조회요청',\n",
      " 'TIME': '2020-06-12 13:51:17.585272',\n",
      " 'TR_CODE': 'OPT10080'}\n"
     ]
    },
    {
     "name": "stdout",
     "output_type": "stream",
     "text": [
      "20191011151000\n"
     ]
    },
    {
     "name": "stderr",
     "output_type": "stream",
     "text": [
      "2020-06-12 13:51:18.003124  commRqData 주식분봉차트조회요청\n",
      "{'BASC_DT': '2020-06-12',\n",
      " 'EVENT': 'eventReceiveTrData',\n",
      " 'REQUEST_NAME': '주식분봉차트조회요청',\n",
      " 'TIME': '2020-06-12 13:51:18.368149',\n",
      " 'TR_CODE': 'OPT10080'}\n"
     ]
    },
    {
     "name": "stdout",
     "output_type": "stream",
     "text": [
      "20191008125200\n"
     ]
    },
    {
     "name": "stderr",
     "output_type": "stream",
     "text": [
      "2020-06-12 13:51:18.783125  commRqData 주식분봉차트조회요청\n",
      "{'BASC_DT': '2020-06-12',\n",
      " 'EVENT': 'eventReceiveTrData',\n",
      " 'REQUEST_NAME': '주식분봉차트조회요청',\n",
      " 'TIME': '2020-06-12 13:51:19.128116',\n",
      " 'TR_CODE': 'OPT10080'}\n"
     ]
    },
    {
     "name": "stdout",
     "output_type": "stream",
     "text": [
      "20191004102600\n"
     ]
    },
    {
     "name": "stderr",
     "output_type": "stream",
     "text": [
      "2020-06-12 13:51:19.545001  commRqData 주식분봉차트조회요청\n",
      "{'BASC_DT': '2020-06-12',\n",
      " 'EVENT': 'eventReceiveTrData',\n",
      " 'REQUEST_NAME': '주식분봉차트조회요청',\n",
      " 'TIME': '2020-06-12 13:51:19.902070',\n",
      " 'TR_CODE': 'OPT10080'}\n"
     ]
    },
    {
     "name": "stdout",
     "output_type": "stream",
     "text": [
      "20190930142300\n"
     ]
    },
    {
     "name": "stderr",
     "output_type": "stream",
     "text": [
      "2020-06-12 13:51:20.318967  commRqData 주식분봉차트조회요청\n",
      "{'BASC_DT': '2020-06-12',\n",
      " 'EVENT': 'eventReceiveTrData',\n",
      " 'REQUEST_NAME': '주식분봉차트조회요청',\n",
      " 'TIME': '2020-06-12 13:51:20.686971',\n",
      " 'TR_CODE': 'OPT10080'}\n"
     ]
    },
    {
     "name": "stdout",
     "output_type": "stream",
     "text": [
      "20190926115900\n"
     ]
    },
    {
     "name": "stderr",
     "output_type": "stream",
     "text": [
      "2020-06-12 13:51:21.105826  commRqData 주식분봉차트조회요청\n",
      "{'BASC_DT': '2020-06-12',\n",
      " 'EVENT': 'eventReceiveTrData',\n",
      " 'REQUEST_NAME': '주식분봉차트조회요청',\n",
      " 'TIME': '2020-06-12 13:51:21.505766',\n",
      " 'TR_CODE': 'OPT10080'}\n"
     ]
    },
    {
     "name": "stdout",
     "output_type": "stream",
     "text": [
      "20190924092900\n"
     ]
    },
    {
     "name": "stderr",
     "output_type": "stream",
     "text": [
      "2020-06-12 13:51:21.923641  commRqData 주식분봉차트조회요청\n",
      "{'BASC_DT': '2020-06-12',\n",
      " 'EVENT': 'eventReceiveTrData',\n",
      " 'REQUEST_NAME': '주식분봉차트조회요청',\n",
      " 'TIME': '2020-06-12 13:51:22.309606',\n",
      " 'TR_CODE': 'OPT10080'}\n"
     ]
    },
    {
     "name": "stdout",
     "output_type": "stream",
     "text": [
      "20190919133100\n"
     ]
    },
    {
     "name": "stderr",
     "output_type": "stream",
     "text": [
      "2020-06-12 13:51:22.725494  commRqData 주식분봉차트조회요청\n",
      "{'BASC_DT': '2020-06-12',\n",
      " 'EVENT': 'eventReceiveTrData',\n",
      " 'REQUEST_NAME': '주식분봉차트조회요청',\n",
      " 'TIME': '2020-06-12 13:51:23.052621',\n",
      " 'TR_CODE': 'OPT10080'}\n"
     ]
    },
    {
     "name": "stdout",
     "output_type": "stream",
     "text": [
      "20190917111300\n"
     ]
    },
    {
     "name": "stderr",
     "output_type": "stream",
     "text": [
      "2020-06-12 13:51:23.468508  commRqData 주식분봉차트조회요청\n",
      "{'BASC_DT': '2020-06-12',\n",
      " 'EVENT': 'eventReceiveTrData',\n",
      " 'REQUEST_NAME': '주식분봉차트조회요청',\n",
      " 'TIME': '2020-06-12 13:51:23.828546',\n",
      " 'TR_CODE': 'OPT10080'}\n"
     ]
    },
    {
     "name": "stdout",
     "output_type": "stream",
     "text": [
      "20190910151700\n"
     ]
    },
    {
     "name": "stderr",
     "output_type": "stream",
     "text": [
      "2020-06-12 13:51:24.243437  commRqData 주식분봉차트조회요청\n",
      "{'BASC_DT': '2020-06-12',\n",
      " 'EVENT': 'eventReceiveTrData',\n",
      " 'REQUEST_NAME': '주식분봉차트조회요청',\n",
      " 'TIME': '2020-06-12 13:51:24.660347',\n",
      " 'TR_CODE': 'OPT10080'}\n"
     ]
    },
    {
     "name": "stdout",
     "output_type": "stream",
     "text": [
      "20190906130000\n"
     ]
    },
    {
     "name": "stderr",
     "output_type": "stream",
     "text": [
      "2020-06-12 13:51:25.075218  commRqData 주식분봉차트조회요청\n",
      "{'BASC_DT': '2020-06-12',\n",
      " 'EVENT': 'eventReceiveTrData',\n",
      " 'REQUEST_NAME': '주식분봉차트조회요청',\n",
      " 'TIME': '2020-06-12 13:51:25.408319',\n",
      " 'TR_CODE': 'OPT10080'}\n"
     ]
    },
    {
     "name": "stdout",
     "output_type": "stream",
     "text": [
      "20190904104100\n"
     ]
    },
    {
     "name": "stderr",
     "output_type": "stream",
     "text": [
      "2020-06-12 13:51:25.823212  commRqData 주식분봉차트조회요청\n",
      "{'BASC_DT': '2020-06-12',\n",
      " 'EVENT': 'eventReceiveTrData',\n",
      " 'REQUEST_NAME': '주식분봉차트조회요청',\n",
      " 'TIME': '2020-06-12 13:51:26.168312',\n",
      " 'TR_CODE': 'OPT10080'}\n"
     ]
    },
    {
     "name": "stdout",
     "output_type": "stream",
     "text": [
      "20190830144600\n"
     ]
    },
    {
     "name": "stderr",
     "output_type": "stream",
     "text": [
      "2020-06-12 13:51:26.583209  commRqData 주식분봉차트조회요청\n",
      "{'BASC_DT': '2020-06-12',\n",
      " 'EVENT': 'eventReceiveTrData',\n",
      " 'REQUEST_NAME': '주식분봉차트조회요청',\n",
      " 'TIME': '2020-06-12 13:51:26.900361',\n",
      " 'TR_CODE': 'OPT10080'}\n"
     ]
    },
    {
     "name": "stdout",
     "output_type": "stream",
     "text": [
      "20190828122800\n"
     ]
    },
    {
     "name": "stderr",
     "output_type": "stream",
     "text": [
      "2020-06-12 13:51:27.316254  commRqData 주식분봉차트조회요청\n",
      "{'BASC_DT': '2020-06-12',\n",
      " 'EVENT': 'eventReceiveTrData',\n",
      " 'REQUEST_NAME': '주식분봉차트조회요청',\n",
      " 'TIME': '2020-06-12 13:51:27.697200',\n",
      " 'TR_CODE': 'OPT10080'}\n"
     ]
    },
    {
     "name": "stdout",
     "output_type": "stream",
     "text": [
      "20190826100000\n"
     ]
    },
    {
     "name": "stderr",
     "output_type": "stream",
     "text": [
      "2020-06-12 13:51:28.114086  commRqData 주식분봉차트조회요청\n",
      "{'BASC_DT': '2020-06-12',\n",
      " 'EVENT': 'eventReceiveTrData',\n",
      " 'REQUEST_NAME': '주식분봉차트조회요청',\n",
      " 'TIME': '2020-06-12 13:51:28.466143',\n",
      " 'TR_CODE': 'OPT10080'}\n"
     ]
    },
    {
     "name": "stdout",
     "output_type": "stream",
     "text": [
      "20190821140400\n"
     ]
    },
    {
     "name": "stderr",
     "output_type": "stream",
     "text": [
      "2020-06-12 13:51:28.883040  commRqData 주식분봉차트조회요청\n",
      "{'BASC_DT': '2020-06-12',\n",
      " 'EVENT': 'eventReceiveTrData',\n",
      " 'REQUEST_NAME': '주식분봉차트조회요청',\n",
      " 'TIME': '2020-06-12 13:51:29.295924',\n",
      " 'TR_CODE': 'OPT10080'}\n"
     ]
    },
    {
     "name": "stdout",
     "output_type": "stream",
     "text": [
      "20190819113900\n"
     ]
    },
    {
     "name": "stderr",
     "output_type": "stream",
     "text": [
      "2020-06-12 13:51:29.710826  commRqData 주식분봉차트조회요청\n",
      "{'BASC_DT': '2020-06-12',\n",
      " 'EVENT': 'eventReceiveTrData',\n",
      " 'REQUEST_NAME': '주식분봉차트조회요청',\n",
      " 'TIME': '2020-06-12 13:51:30.096784',\n",
      " 'TR_CODE': 'OPT10080'}\n"
     ]
    },
    {
     "name": "stdout",
     "output_type": "stream",
     "text": [
      "20190814091500\n"
     ]
    },
    {
     "name": "stderr",
     "output_type": "stream",
     "text": [
      "2020-06-12 13:51:30.512694  commRqData 주식분봉차트조회요청\n",
      "{'BASC_DT': '2020-06-12',\n",
      " 'EVENT': 'eventReceiveTrData',\n",
      " 'REQUEST_NAME': '주식분봉차트조회요청',\n",
      " 'TIME': '2020-06-12 13:51:30.871728',\n",
      " 'TR_CODE': 'OPT10080'}\n"
     ]
    },
    {
     "name": "stdout",
     "output_type": "stream",
     "text": [
      "20190809131000\n"
     ]
    },
    {
     "name": "stderr",
     "output_type": "stream",
     "text": [
      "2020-06-12 13:51:31.287633  commRqData 주식분봉차트조회요청\n",
      "{'BASC_DT': '2020-06-12',\n",
      " 'EVENT': 'eventReceiveTrData',\n",
      " 'REQUEST_NAME': '주식분봉차트조회요청',\n",
      " 'TIME': '2020-06-12 13:51:31.631705',\n",
      " 'TR_CODE': 'OPT10080'}\n"
     ]
    },
    {
     "name": "stdout",
     "output_type": "stream",
     "text": [
      "20190807105300\n"
     ]
    },
    {
     "name": "stderr",
     "output_type": "stream",
     "text": [
      "2020-06-12 13:51:32.045572  commRqData 주식분봉차트조회요청\n",
      "{'BASC_DT': '2020-06-12',\n",
      " 'EVENT': 'eventReceiveTrData',\n",
      " 'REQUEST_NAME': '주식분봉차트조회요청',\n",
      " 'TIME': '2020-06-12 13:51:32.410625',\n",
      " 'TR_CODE': 'OPT10080'}\n"
     ]
    },
    {
     "name": "stdout",
     "output_type": "stream",
     "text": [
      "20190802145900\n"
     ]
    },
    {
     "name": "stderr",
     "output_type": "stream",
     "text": [
      "2020-06-12 13:51:32.827514  commRqData 주식분봉차트조회요청\n",
      "{'BASC_DT': '2020-06-12',\n",
      " 'EVENT': 'eventReceiveTrData',\n",
      " 'REQUEST_NAME': '주식분봉차트조회요청',\n",
      " 'TIME': '2020-06-12 13:51:33.189512',\n",
      " 'TR_CODE': 'OPT10080'}\n"
     ]
    },
    {
     "name": "stdout",
     "output_type": "stream",
     "text": [
      "20190731124300\n"
     ]
    },
    {
     "name": "stderr",
     "output_type": "stream",
     "text": [
      "2020-06-12 13:51:33.605432  commRqData 주식분봉차트조회요청\n",
      "{'BASC_DT': '2020-06-12',\n",
      " 'EVENT': 'eventReceiveTrData',\n",
      " 'REQUEST_NAME': '주식분봉차트조회요청',\n",
      " 'TIME': '2020-06-12 13:51:33.988406',\n",
      " 'TR_CODE': 'OPT10080'}\n"
     ]
    },
    {
     "name": "stdout",
     "output_type": "stream",
     "text": [
      "20190729102400\n"
     ]
    },
    {
     "name": "stderr",
     "output_type": "stream",
     "text": [
      "2020-06-12 13:51:34.404298  commRqData 주식분봉차트조회요청\n",
      "{'BASC_DT': '2020-06-12',\n",
      " 'EVENT': 'eventReceiveTrData',\n",
      " 'REQUEST_NAME': '주식분봉차트조회요청',\n",
      " 'TIME': '2020-06-12 13:51:34.749338',\n",
      " 'TR_CODE': 'OPT10080'}\n"
     ]
    },
    {
     "name": "stdout",
     "output_type": "stream",
     "text": [
      "20190724142500\n"
     ]
    },
    {
     "name": "stderr",
     "output_type": "stream",
     "text": [
      "2020-06-12 13:51:35.165226  commRqData 주식분봉차트조회요청\n",
      "{'BASC_DT': '2020-06-12',\n",
      " 'EVENT': 'eventReceiveTrData',\n",
      " 'REQUEST_NAME': '주식분봉차트조회요청',\n",
      " 'TIME': '2020-06-12 13:51:35.850395',\n",
      " 'TR_CODE': 'OPT10080'}\n"
     ]
    },
    {
     "name": "stdout",
     "output_type": "stream",
     "text": [
      "20190722120500\n"
     ]
    },
    {
     "name": "stderr",
     "output_type": "stream",
     "text": [
      "2020-06-12 13:51:36.265287  commRqData 주식분봉차트조회요청\n",
      "{'BASC_DT': '2020-06-12',\n",
      " 'EVENT': 'eventReceiveTrData',\n",
      " 'REQUEST_NAME': '주식분봉차트조회요청',\n",
      " 'TIME': '2020-06-12 13:51:36.663223',\n",
      " 'TR_CODE': 'OPT10080'}\n"
     ]
    },
    {
     "name": "stdout",
     "output_type": "stream",
     "text": [
      "20190718092000\n"
     ]
    },
    {
     "name": "stderr",
     "output_type": "stream",
     "text": [
      "2020-06-12 13:51:37.079262  commRqData 주식분봉차트조회요청\n",
      "{'BASC_DT': '2020-06-12',\n",
      " 'EVENT': 'eventReceiveTrData',\n",
      " 'REQUEST_NAME': '주식분봉차트조회요청',\n",
      " 'TIME': '2020-06-12 13:51:37.431194',\n",
      " 'TR_CODE': 'OPT10080'}\n"
     ]
    },
    {
     "name": "stdout",
     "output_type": "stream",
     "text": [
      "20190715132300\n"
     ]
    },
    {
     "name": "stderr",
     "output_type": "stream",
     "text": [
      "2020-06-12 13:51:37.846106  commRqData 주식분봉차트조회요청\n",
      "{'BASC_DT': '2020-06-12',\n",
      " 'EVENT': 'eventReceiveTrData',\n",
      " 'REQUEST_NAME': '주식분봉차트조회요청',\n",
      " 'TIME': '2020-06-12 13:51:38.169195',\n",
      " 'TR_CODE': 'OPT10080'}\n"
     ]
    },
    {
     "name": "stdout",
     "output_type": "stream",
     "text": [
      "20190711105500\n"
     ]
    },
    {
     "name": "stderr",
     "output_type": "stream",
     "text": [
      "2020-06-12 13:51:38.583089  commRqData 주식분봉차트조회요청\n",
      "{'BASC_DT': '2020-06-12',\n",
      " 'EVENT': 'eventReceiveTrData',\n",
      " 'REQUEST_NAME': '주식분봉차트조회요청',\n",
      " 'TIME': '2020-06-12 13:51:38.935173',\n",
      " 'TR_CODE': 'OPT10080'}\n"
     ]
    },
    {
     "name": "stdout",
     "output_type": "stream",
     "text": [
      "20190708145700\n"
     ]
    },
    {
     "name": "stderr",
     "output_type": "stream",
     "text": [
      "2020-06-12 13:51:39.349038  commRqData 주식분봉차트조회요청\n",
      "{'BASC_DT': '2020-06-12',\n",
      " 'EVENT': 'eventReceiveTrData',\n",
      " 'REQUEST_NAME': '주식분봉차트조회요청',\n",
      " 'TIME': '2020-06-12 13:51:39.727054',\n",
      " 'TR_CODE': 'OPT10080'}\n"
     ]
    },
    {
     "name": "stdout",
     "output_type": "stream",
     "text": [
      "20190704124000\n"
     ]
    },
    {
     "name": "stderr",
     "output_type": "stream",
     "text": [
      "2020-06-12 13:51:40.144911  commRqData 주식분봉차트조회요청\n",
      "{'BASC_DT': '2020-06-12',\n",
      " 'EVENT': 'eventReceiveTrData',\n",
      " 'REQUEST_NAME': '주식분봉차트조회요청',\n",
      " 'TIME': '2020-06-12 13:51:40.511955',\n",
      " 'TR_CODE': 'OPT10080'}\n"
     ]
    },
    {
     "name": "stdout",
     "output_type": "stream",
     "text": [
      "20190702102100\n"
     ]
    },
    {
     "name": "stderr",
     "output_type": "stream",
     "text": [
      "2020-06-12 13:51:40.925824  commRqData 주식분봉차트조회요청\n",
      "{'BASC_DT': '2020-06-12',\n",
      " 'EVENT': 'eventReceiveTrData',\n",
      " 'REQUEST_NAME': '주식분봉차트조회요청',\n",
      " 'TIME': '2020-06-12 13:51:41.284863',\n",
      " 'TR_CODE': 'OPT10080'}\n"
     ]
    },
    {
     "name": "stdout",
     "output_type": "stream",
     "text": [
      "20190627142500\n"
     ]
    },
    {
     "name": "stderr",
     "output_type": "stream",
     "text": [
      "2020-06-12 13:51:41.699783  commRqData 주식분봉차트조회요청\n",
      "{'BASC_DT': '2020-06-12',\n",
      " 'EVENT': 'eventReceiveTrData',\n",
      " 'REQUEST_NAME': '주식분봉차트조회요청',\n",
      " 'TIME': '2020-06-12 13:51:42.006930',\n",
      " 'TR_CODE': 'OPT10080'}\n"
     ]
    },
    {
     "name": "stdout",
     "output_type": "stream",
     "text": [
      "20190625115800\n"
     ]
    },
    {
     "name": "stderr",
     "output_type": "stream",
     "text": [
      "2020-06-12 13:51:42.422851  commRqData 주식분봉차트조회요청\n",
      "{'BASC_DT': '2020-06-12',\n",
      " 'EVENT': 'eventReceiveTrData',\n",
      " 'REQUEST_NAME': '주식분봉차트조회요청',\n",
      " 'TIME': '2020-06-12 13:51:42.811809',\n",
      " 'TR_CODE': 'OPT10080'}\n"
     ]
    },
    {
     "name": "stdout",
     "output_type": "stream",
     "text": [
      "20190621093700\n"
     ]
    },
    {
     "name": "stderr",
     "output_type": "stream",
     "text": [
      "2020-06-12 13:51:43.229749  commRqData 주식분봉차트조회요청\n",
      "{'BASC_DT': '2020-06-12',\n",
      " 'EVENT': 'eventReceiveTrData',\n",
      " 'REQUEST_NAME': '주식분봉차트조회요청',\n",
      " 'TIME': '2020-06-12 13:51:43.601697',\n",
      " 'TR_CODE': 'OPT10080'}\n"
     ]
    },
    {
     "name": "stdout",
     "output_type": "stream",
     "text": [
      "20190618132900\n"
     ]
    },
    {
     "name": "stderr",
     "output_type": "stream",
     "text": [
      "2020-06-12 13:51:44.017586  commRqData 주식분봉차트조회요청\n",
      "{'BASC_DT': '2020-06-12',\n",
      " 'EVENT': 'eventReceiveTrData',\n",
      " 'REQUEST_NAME': '주식분봉차트조회요청',\n",
      " 'TIME': '2020-06-12 13:51:44.336700',\n",
      " 'TR_CODE': 'OPT10080'}\n"
     ]
    },
    {
     "name": "stdout",
     "output_type": "stream",
     "text": [
      "20190614111300\n"
     ]
    },
    {
     "name": "stderr",
     "output_type": "stream",
     "text": [
      "2020-06-12 13:51:44.751591  commRqData 주식분봉차트조회요청\n",
      "{'BASC_DT': '2020-06-12',\n",
      " 'EVENT': 'eventReceiveTrData',\n",
      " 'REQUEST_NAME': '주식분봉차트조회요청',\n",
      " 'TIME': '2020-06-12 13:51:45.074753',\n",
      " 'TR_CODE': 'OPT10080'}\n"
     ]
    },
    {
     "name": "stdout",
     "output_type": "stream",
     "text": [
      "20190611151600\n"
     ]
    },
    {
     "name": "stderr",
     "output_type": "stream",
     "text": [
      "2020-06-12 13:51:45.489618  commRqData 주식분봉차트조회요청\n",
      "{'BASC_DT': '2020-06-12',\n",
      " 'EVENT': 'eventReceiveTrData',\n",
      " 'REQUEST_NAME': '주식분봉차트조회요청',\n",
      " 'TIME': '2020-06-12 13:51:45.795828',\n",
      " 'TR_CODE': 'OPT10080'}\n"
     ]
    },
    {
     "name": "stdout",
     "output_type": "stream",
     "text": [
      "20190607130000\n"
     ]
    },
    {
     "name": "stderr",
     "output_type": "stream",
     "text": [
      "2020-06-12 13:51:46.211686  commRqData 주식분봉차트조회요청\n",
      "{'BASC_DT': '2020-06-12',\n",
      " 'EVENT': 'eventReceiveTrData',\n",
      " 'REQUEST_NAME': '주식분봉차트조회요청',\n",
      " 'TIME': '2020-06-12 13:51:46.403174',\n",
      " 'TR_CODE': 'OPT10080'}\n"
     ]
    },
    {
     "name": "stdout",
     "output_type": "stream",
     "text": [
      "20190604103700\n"
     ]
    },
    {
     "name": "stderr",
     "output_type": "stream",
     "text": [
      "2020-06-12 13:51:46.819062  commRqData 주식분봉차트조회요청\n",
      "{'BASC_DT': '2020-06-12',\n",
      " 'EVENT': 'eventReceiveTrData',\n",
      " 'REQUEST_NAME': '주식분봉차트조회요청',\n",
      " 'TIME': '2020-06-12 13:51:46.988607',\n",
      " 'TR_CODE': 'OPT10080'}\n"
     ]
    },
    {
     "name": "stdout",
     "output_type": "stream",
     "text": [
      "018260  마지막 i= 108\n"
     ]
    }
   ],
   "source": [
    "for idx, code, name in Kospi_codes.iloc[:20,:].itertuples(): #코스피 상위 20개 목록의 주식을 가져온다.\n",
    "    code = '%06d' % code\n",
    "    print(idx, code, name)\n",
    "    min_data = get_min_data(code, 200)\n",
    "    min_data.to_csv('./min_data/{}_{}_.csv'.format(name, code)) #저장은 노트북파일과 동일한 폴더의 min_data에 저장한다.\n",
    "    time.sleep(1)"
   ]
  },
  {
   "cell_type": "code",
   "execution_count": null,
   "metadata": {},
   "outputs": [],
   "source": [
    "#2019-6-3일 9:00부터 가져온다."
   ]
  }
 ],
 "metadata": {
  "kernelspec": {
   "display_name": "Python 3",
   "language": "python",
   "name": "python3"
  },
  "language_info": {
   "codemirror_mode": {
    "name": "ipython",
    "version": 3
   },
   "file_extension": ".py",
   "mimetype": "text/x-python",
   "name": "python",
   "nbconvert_exporter": "python",
   "pygments_lexer": "ipython3",
   "version": "3.7.3"
  }
 },
 "nbformat": 4,
 "nbformat_minor": 4
}
