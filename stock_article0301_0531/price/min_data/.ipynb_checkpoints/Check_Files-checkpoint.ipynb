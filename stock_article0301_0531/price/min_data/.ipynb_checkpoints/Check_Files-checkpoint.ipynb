{
 "cells": [
  {
   "cell_type": "code",
   "execution_count": 66,
   "metadata": {},
   "outputs": [],
   "source": [
    "import pandas as pd\n",
    "import os"
   ]
  },
  {
   "cell_type": "code",
   "execution_count": 109,
   "metadata": {},
   "outputs": [],
   "source": [
    "kospi200 = pd.read_csv('../KOSPI200.csv', header=None)"
   ]
  },
  {
   "cell_type": "code",
   "execution_count": 110,
   "metadata": {},
   "outputs": [],
   "source": [
    "set_names = set(kospi200.iloc[:20, 1])"
   ]
  },
  {
   "cell_type": "code",
   "execution_count": 111,
   "metadata": {},
   "outputs": [],
   "source": [
    "n = 0\n",
    "for f in os.listdir('./'):\n",
    "    if f.split('_')[0] in set_names:\n",
    "        set_names = set_names-set({f.split('_')[0]})"
   ]
  },
  {
   "cell_type": "code",
   "execution_count": 171,
   "metadata": {},
   "outputs": [
    {
     "data": {
      "text/plain": [
       "['.ipynb_checkpoints',\n",
       " 'Check_Files.ipynb',\n",
       " 'KB금융_105560_.csv',\n",
       " 'LG생활건강_051900_.csv',\n",
       " 'LG화학_051910_.csv',\n",
       " 'NAVER_035420_.csv',\n",
       " 'POSCO_005490_.csv',\n",
       " 'SK_034730_.csv',\n",
       " 'SK텔레콤_017670_.csv',\n",
       " 'SK하이닉스_000660_.csv',\n",
       " '기아차_000270_.csv',\n",
       " '삼성SDI_006400_.csv',\n",
       " '삼성물산_028260_.csv',\n",
       " '삼성바이오로직스_207940_.csv',\n",
       " '삼성에스디에스_018260_.csv',\n",
       " '삼성전자_005930_.csv',\n",
       " '셀트리온_068270_.csv',\n",
       " '신한지주_055550_.csv',\n",
       " '엔씨소프트_036570_.csv',\n",
       " '카카오_035720_.csv',\n",
       " '현대모비스_012330_.csv',\n",
       " '현대차_005380_.csv']"
      ]
     },
     "execution_count": 171,
     "metadata": {},
     "output_type": "execute_result"
    }
   ],
   "source": [
    "os.listdir('./')"
   ]
  },
  {
   "cell_type": "code",
   "execution_count": 112,
   "metadata": {},
   "outputs": [
    {
     "data": {
      "text/plain": [
       "{'삼성에스디에스', '삼성전자'}"
      ]
     },
     "execution_count": 112,
     "metadata": {},
     "output_type": "execute_result"
    }
   ],
   "source": [
    "set_names"
   ]
  },
  {
   "cell_type": "code",
   "execution_count": 173,
   "metadata": {},
   "outputs": [
    {
     "name": "stdout",
     "output_type": "stream",
     "text": [
      "KB금융_105560_.csv\n",
      "LG생활건강_051900_.csv\n",
      "LG화학_051910_.csv\n",
      "NAVER_035420_.csv\n",
      "POSCO_005490_.csv\n",
      "SK_034730_.csv\n",
      "SK텔레콤_017670_.csv\n",
      "SK하이닉스_000660_.csv\n",
      "기아차_000270_.csv\n",
      "삼성SDI_006400_.csv\n",
      "삼성물산_028260_.csv\n",
      "삼성바이오로직스_207940_.csv\n",
      "삼성에스디에스_018260_.csv\n",
      "삼성전자_005930_.csv\n",
      "셀트리온_068270_.csv\n",
      "신한지주_055550_.csv\n",
      "엔씨소프트_036570_.csv\n",
      "카카오_035720_.csv\n",
      "현대모비스_012330_.csv\n",
      "현대차_005380_.csv\n"
     ]
    }
   ],
   "source": [
    "fs = os.listdir('./')[2:]\n",
    "for i in range(20):\n",
    "    test = pd.read_csv(fs[i], index_col=0)\n",
    "    print(fs[i])"
   ]
  },
  {
   "cell_type": "code",
   "execution_count": 166,
   "metadata": {},
   "outputs": [],
   "source": [
    "f_name = os.listdir('./')[]\n",
    "test = pd.read_csv(f_name, index_col=0)"
   ]
  },
  {
   "cell_type": "code",
   "execution_count": 167,
   "metadata": {},
   "outputs": [],
   "source": [
    "lens = test.groupby(['체결시간']).agg(len)"
   ]
  },
  {
   "cell_type": "code",
   "execution_count": 168,
   "metadata": {},
   "outputs": [
    {
     "data": {
      "text/html": [
       "<div>\n",
       "<style scoped>\n",
       "    .dataframe tbody tr th:only-of-type {\n",
       "        vertical-align: middle;\n",
       "    }\n",
       "\n",
       "    .dataframe tbody tr th {\n",
       "        vertical-align: top;\n",
       "    }\n",
       "\n",
       "    .dataframe thead th {\n",
       "        text-align: right;\n",
       "    }\n",
       "</style>\n",
       "<table border=\"1\" class=\"dataframe\">\n",
       "  <thead>\n",
       "    <tr style=\"text-align: right;\">\n",
       "      <th></th>\n",
       "      <th>현재가</th>\n",
       "      <th>시가</th>\n",
       "      <th>고가</th>\n",
       "      <th>저가</th>\n",
       "      <th>거래량</th>\n",
       "    </tr>\n",
       "    <tr>\n",
       "      <th>체결시간</th>\n",
       "      <th></th>\n",
       "      <th></th>\n",
       "      <th></th>\n",
       "      <th></th>\n",
       "      <th></th>\n",
       "    </tr>\n",
       "  </thead>\n",
       "  <tbody>\n",
       "  </tbody>\n",
       "</table>\n",
       "</div>"
      ],
      "text/plain": [
       "Empty DataFrame\n",
       "Columns: [현재가, 시가, 고가, 저가, 거래량]\n",
       "Index: []"
      ]
     },
     "execution_count": 168,
     "metadata": {},
     "output_type": "execute_result"
    }
   ],
   "source": [
    "lens[lens['현재가']>1]"
   ]
  },
  {
   "cell_type": "code",
   "execution_count": 169,
   "metadata": {},
   "outputs": [
    {
     "data": {
      "text/html": [
       "<div>\n",
       "<style scoped>\n",
       "    .dataframe tbody tr th:only-of-type {\n",
       "        vertical-align: middle;\n",
       "    }\n",
       "\n",
       "    .dataframe tbody tr th {\n",
       "        vertical-align: top;\n",
       "    }\n",
       "\n",
       "    .dataframe thead th {\n",
       "        text-align: right;\n",
       "    }\n",
       "</style>\n",
       "<table border=\"1\" class=\"dataframe\">\n",
       "  <thead>\n",
       "    <tr style=\"text-align: right;\">\n",
       "      <th></th>\n",
       "      <th>체결시간</th>\n",
       "      <th>현재가</th>\n",
       "      <th>시가</th>\n",
       "      <th>고가</th>\n",
       "      <th>저가</th>\n",
       "      <th>거래량</th>\n",
       "    </tr>\n",
       "  </thead>\n",
       "  <tbody>\n",
       "    <tr>\n",
       "      <td>96966</td>\n",
       "      <td>20190603090000</td>\n",
       "      <td>180036</td>\n",
       "      <td>180991</td>\n",
       "      <td>181469</td>\n",
       "      <td>180036</td>\n",
       "      <td>13643</td>\n",
       "    </tr>\n",
       "  </tbody>\n",
       "</table>\n",
       "</div>"
      ],
      "text/plain": [
       "                 체결시간     현재가      시가      고가      저가    거래량\n",
       "96966  20190603090000  180036  180991  181469  180036  13643"
      ]
     },
     "execution_count": 169,
     "metadata": {},
     "output_type": "execute_result"
    }
   ],
   "source": [
    "test[test['체결시간'] == 20190603090000]"
   ]
  },
  {
   "cell_type": "code",
   "execution_count": 170,
   "metadata": {},
   "outputs": [
    {
     "data": {
      "text/plain": [
       "96966"
      ]
     },
     "execution_count": 170,
     "metadata": {},
     "output_type": "execute_result"
    }
   ],
   "source": [
    "test[test['체결시간'] == 20190603090000].index[0]"
   ]
  },
  {
   "cell_type": "code",
   "execution_count": 160,
   "metadata": {},
   "outputs": [],
   "source": [
    "test = test.iloc[:test[test['체결시간'] == 20190603090000].index[0]+1]"
   ]
  },
  {
   "cell_type": "code",
   "execution_count": 161,
   "metadata": {},
   "outputs": [],
   "source": [
    "test.to_csv(f_name)"
   ]
  },
  {
   "cell_type": "markdown",
   "metadata": {},
   "source": [
    "# Experiments"
   ]
  },
  {
   "cell_type": "code",
   "execution_count": 129,
   "metadata": {},
   "outputs": [
    {
     "data": {
      "text/html": [
       "<div>\n",
       "<style scoped>\n",
       "    .dataframe tbody tr th:only-of-type {\n",
       "        vertical-align: middle;\n",
       "    }\n",
       "\n",
       "    .dataframe tbody tr th {\n",
       "        vertical-align: top;\n",
       "    }\n",
       "\n",
       "    .dataframe thead th {\n",
       "        text-align: right;\n",
       "    }\n",
       "</style>\n",
       "<table border=\"1\" class=\"dataframe\">\n",
       "  <thead>\n",
       "    <tr style=\"text-align: right;\">\n",
       "      <th></th>\n",
       "      <th>체결시간</th>\n",
       "      <th>현재가</th>\n",
       "      <th>시가</th>\n",
       "      <th>고가</th>\n",
       "      <th>저가</th>\n",
       "      <th>거래량</th>\n",
       "      <th>delta</th>\n",
       "    </tr>\n",
       "  </thead>\n",
       "  <tbody>\n",
       "    <tr>\n",
       "      <td>0</td>\n",
       "      <td>20200612101000</td>\n",
       "      <td>446000</td>\n",
       "      <td>445500</td>\n",
       "      <td>446000</td>\n",
       "      <td>445500</td>\n",
       "      <td>89</td>\n",
       "      <td>NaN</td>\n",
       "    </tr>\n",
       "    <tr>\n",
       "      <td>10385</td>\n",
       "      <td>20200504153500</td>\n",
       "      <td>360000</td>\n",
       "      <td>360000</td>\n",
       "      <td>360000</td>\n",
       "      <td>360000</td>\n",
       "      <td>1200</td>\n",
       "      <td>-1936500.0</td>\n",
       "    </tr>\n",
       "    <tr>\n",
       "      <td>14587</td>\n",
       "      <td>20200414153500</td>\n",
       "      <td>326500</td>\n",
       "      <td>326500</td>\n",
       "      <td>326500</td>\n",
       "      <td>326500</td>\n",
       "      <td>1407</td>\n",
       "      <td>-1936500.0</td>\n",
       "    </tr>\n",
       "    <tr>\n",
       "      <td>15734</td>\n",
       "      <td>20200409153200</td>\n",
       "      <td>324500</td>\n",
       "      <td>324500</td>\n",
       "      <td>324500</td>\n",
       "      <td>324500</td>\n",
       "      <td>107570</td>\n",
       "      <td>-300.0</td>\n",
       "    </tr>\n",
       "    <tr>\n",
       "      <td>15735</td>\n",
       "      <td>20200409151900</td>\n",
       "      <td>320500</td>\n",
       "      <td>320500</td>\n",
       "      <td>320500</td>\n",
       "      <td>320000</td>\n",
       "      <td>1823</td>\n",
       "      <td>-1300.0</td>\n",
       "    </tr>\n",
       "    <tr>\n",
       "      <td>...</td>\n",
       "      <td>...</td>\n",
       "      <td>...</td>\n",
       "      <td>...</td>\n",
       "      <td>...</td>\n",
       "      <td>...</td>\n",
       "      <td>...</td>\n",
       "      <td>...</td>\n",
       "    </tr>\n",
       "    <tr>\n",
       "      <td>155084</td>\n",
       "      <td>20190604134500</td>\n",
       "      <td>337500</td>\n",
       "      <td>337500</td>\n",
       "      <td>337500</td>\n",
       "      <td>337000</td>\n",
       "      <td>313</td>\n",
       "      <td>1044500.0</td>\n",
       "    </tr>\n",
       "    <tr>\n",
       "      <td>155752</td>\n",
       "      <td>20190604134500</td>\n",
       "      <td>337500</td>\n",
       "      <td>337500</td>\n",
       "      <td>337500</td>\n",
       "      <td>337000</td>\n",
       "      <td>313</td>\n",
       "      <td>1044500.0</td>\n",
       "    </tr>\n",
       "    <tr>\n",
       "      <td>156420</td>\n",
       "      <td>20190604134500</td>\n",
       "      <td>337500</td>\n",
       "      <td>337500</td>\n",
       "      <td>337500</td>\n",
       "      <td>337000</td>\n",
       "      <td>313</td>\n",
       "      <td>1044500.0</td>\n",
       "    </tr>\n",
       "    <tr>\n",
       "      <td>157088</td>\n",
       "      <td>20190604134500</td>\n",
       "      <td>337500</td>\n",
       "      <td>337500</td>\n",
       "      <td>337500</td>\n",
       "      <td>337000</td>\n",
       "      <td>313</td>\n",
       "      <td>1044500.0</td>\n",
       "    </tr>\n",
       "    <tr>\n",
       "      <td>157756</td>\n",
       "      <td>20190604134500</td>\n",
       "      <td>337500</td>\n",
       "      <td>337500</td>\n",
       "      <td>337500</td>\n",
       "      <td>337000</td>\n",
       "      <td>313</td>\n",
       "      <td>1044500.0</td>\n",
       "    </tr>\n",
       "  </tbody>\n",
       "</table>\n",
       "<p>132 rows × 7 columns</p>\n",
       "</div>"
      ],
      "text/plain": [
       "                  체결시간     현재가      시가      고가      저가     거래량      delta\n",
       "0       20200612101000  446000  445500  446000  445500      89        NaN\n",
       "10385   20200504153500  360000  360000  360000  360000    1200 -1936500.0\n",
       "14587   20200414153500  326500  326500  326500  326500    1407 -1936500.0\n",
       "15734   20200409153200  324500  324500  324500  324500  107570     -300.0\n",
       "15735   20200409151900  320500  320500  320500  320000    1823    -1300.0\n",
       "...                ...     ...     ...     ...     ...     ...        ...\n",
       "155084  20190604134500  337500  337500  337500  337000     313  1044500.0\n",
       "155752  20190604134500  337500  337500  337500  337000     313  1044500.0\n",
       "156420  20190604134500  337500  337500  337500  337000     313  1044500.0\n",
       "157088  20190604134500  337500  337500  337500  337000     313  1044500.0\n",
       "157756  20190604134500  337500  337500  337500  337000     313  1044500.0\n",
       "\n",
       "[132 rows x 7 columns]"
      ]
     },
     "execution_count": 129,
     "metadata": {},
     "output_type": "execute_result"
    }
   ],
   "source": [
    "test[(test['체결시간'].diff() != -100) & \n",
    "     (test['체결시간'].diff() != -4100) & \n",
    "     (test['체결시간'].diff() != -500) &\n",
    "     (test['체결시간'].diff() != -1100) &\n",
    "     (test['체결시간'].diff() != -936500) &\n",
    "     (test['체결시간'].diff() != -2936500) &\n",
    "     (test['체결시간'].diff() != -71936500) &\n",
    "     (test['체결시간'].diff() != -74936500) \n",
    "    ]"
   ]
  },
  {
   "cell_type": "code",
   "execution_count": 119,
   "metadata": {},
   "outputs": [],
   "source": [
    "tmp = test['체결시간'].astype(str).map(lambda x: x[:4]+\"-\"+x[4:6]+\"-\"+x[6:8]+\" \"+x[8:10]+\":\"+x[10:12])"
   ]
  },
  {
   "cell_type": "code",
   "execution_count": 120,
   "metadata": {},
   "outputs": [
    {
     "data": {
      "text/plain": [
       "0         2020-06-12 10:10\n",
       "1         2020-06-12 10:09\n",
       "2         2020-06-12 10:08\n",
       "3         2020-06-12 10:07\n",
       "4         2020-06-12 10:06\n",
       "                ...       \n",
       "158419    2019-06-03 09:04\n",
       "158420    2019-06-03 09:03\n",
       "158421    2019-06-03 09:02\n",
       "158422    2019-06-03 09:01\n",
       "158423    2019-06-03 09:00\n",
       "Name: 체결시간, Length: 158424, dtype: object"
      ]
     },
     "execution_count": 120,
     "metadata": {},
     "output_type": "execute_result"
    }
   ],
   "source": [
    "tmp"
   ]
  },
  {
   "cell_type": "code",
   "execution_count": 124,
   "metadata": {},
   "outputs": [
    {
     "data": {
      "text/plain": [
       "0                      NaT\n",
       "1        -1 days +23:59:00\n",
       "2        -1 days +23:59:00\n",
       "3        -1 days +23:59:00\n",
       "4        -1 days +23:59:00\n",
       "                ...       \n",
       "158419   -1 days +23:59:00\n",
       "158420   -1 days +23:59:00\n",
       "158421   -1 days +23:59:00\n",
       "158422   -1 days +23:59:00\n",
       "158423   -1 days +23:59:00\n",
       "Name: 체결시간, Length: 158424, dtype: timedelta64[ns]"
      ]
     },
     "execution_count": 124,
     "metadata": {},
     "output_type": "execute_result"
    }
   ],
   "source": [
    "pd.to_datetime(tmp).diff()"
   ]
  },
  {
   "cell_type": "code",
   "execution_count": null,
   "metadata": {},
   "outputs": [],
   "source": []
  }
 ],
 "metadata": {
  "kernelspec": {
   "display_name": "Python 3",
   "language": "python",
   "name": "python3"
  },
  "language_info": {
   "codemirror_mode": {
    "name": "ipython",
    "version": 3
   },
   "file_extension": ".py",
   "mimetype": "text/x-python",
   "name": "python",
   "nbconvert_exporter": "python",
   "pygments_lexer": "ipython3",
   "version": "3.7.3"
  }
 },
 "nbformat": 4,
 "nbformat_minor": 4
}
